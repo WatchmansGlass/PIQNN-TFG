{
  "cells": [
    {
      "cell_type": "code",
      "execution_count": null,
      "metadata": {
        "id": "KKL3xdPKXLmn"
      },
      "outputs": [],
      "source": [
        "#!pip install tensorflow\n",
        "\n",
        "import numpy as np\n",
        "import tensorflow as tf\n",
        "import matplotlib.pyplot as plt\n",
        "import time\n",
        "from tensorflow.keras.callbacks import EarlyStopping\n",
        "from sklearn.preprocessing import normalize\n",
        "from scipy.linalg import eigh_tridiagonal\n",
        "import scipy\n",
        "\n",
        "#Creamos una semilla que asegurará que las variables pseudoaleatorias sean constantes entre intentos\n",
        "seed = 128\n",
        "np.random.seed(seed)\n",
        "tf.random.set_seed(seed)\n",
        "tf.keras.utils.set_random_seed(seed)"
      ]
    },
    {
      "cell_type": "markdown",
      "metadata": {
        "id": "hEkrNebggOWj"
      },
      "source": [
        "# Probando No-Linealidades\n"
      ]
    },
    {
      "cell_type": "markdown",
      "metadata": {
        "id": "F5I596BAnDaI"
      },
      "source": [
        "## Fracción\n"
      ]
    },
    {
      "cell_type": "code",
      "execution_count": null,
      "metadata": {
        "collapsed": true,
        "id": "kJMV70T5nDaI"
      },
      "outputs": [],
      "source": [
        "num_domain = 30\n",
        "minval = 0\n",
        "maxval = 2\n",
        "x = np.linspace(minval, maxval, num_domain)\n",
        "\n",
        "gamma = 1"
      ]
    },
    {
      "cell_type": "code",
      "execution_count": null,
      "metadata": {
        "colab": {
          "base_uri": "https://localhost:8080/",
          "height": 238
        },
        "id": "YU0Ygh4AnDaI",
        "outputId": "d34e4044-e283-4fb9-9db8-2bc16d438706"
      },
      "outputs": [
        {
          "output_type": "display_data",
          "data": {
            "text/plain": [
              "\u001b[1mModel: \"sequential_3\"\u001b[0m\n"
            ],
            "text/html": [
              "<pre style=\"white-space:pre;overflow-x:auto;line-height:normal;font-family:Menlo,'DejaVu Sans Mono',consolas,'Courier New',monospace\"><span style=\"font-weight: bold\">Model: \"sequential_3\"</span>\n",
              "</pre>\n"
            ]
          },
          "metadata": {}
        },
        {
          "output_type": "display_data",
          "data": {
            "text/plain": [
              "┏━━━━━━━━━━━━━━━━━━━━━━━━━━━━━━━━━┳━━━━━━━━━━━━━━━━━━━━━━━━┳━━━━━━━━━━━━━━━┓\n",
              "┃\u001b[1m \u001b[0m\u001b[1mLayer (type)                   \u001b[0m\u001b[1m \u001b[0m┃\u001b[1m \u001b[0m\u001b[1mOutput Shape          \u001b[0m\u001b[1m \u001b[0m┃\u001b[1m \u001b[0m\u001b[1m      Param #\u001b[0m\u001b[1m \u001b[0m┃\n",
              "┡━━━━━━━━━━━━━━━━━━━━━━━━━━━━━━━━━╇━━━━━━━━━━━━━━━━━━━━━━━━╇━━━━━━━━━━━━━━━┩\n",
              "│ dense_10 (\u001b[38;5;33mDense\u001b[0m)                │ (\u001b[38;5;45mNone\u001b[0m, \u001b[38;5;34m4\u001b[0m)              │             \u001b[38;5;34m8\u001b[0m │\n",
              "├─────────────────────────────────┼────────────────────────┼───────────────┤\n",
              "│ dense_11 (\u001b[38;5;33mDense\u001b[0m)                │ (\u001b[38;5;45mNone\u001b[0m, \u001b[38;5;34m7\u001b[0m)              │            \u001b[38;5;34m35\u001b[0m │\n",
              "├─────────────────────────────────┼────────────────────────┼───────────────┤\n",
              "│ dense_12 (\u001b[38;5;33mDense\u001b[0m)                │ (\u001b[38;5;45mNone\u001b[0m, \u001b[38;5;34m1\u001b[0m)              │             \u001b[38;5;34m8\u001b[0m │\n",
              "└─────────────────────────────────┴────────────────────────┴───────────────┘\n"
            ],
            "text/html": [
              "<pre style=\"white-space:pre;overflow-x:auto;line-height:normal;font-family:Menlo,'DejaVu Sans Mono',consolas,'Courier New',monospace\">┏━━━━━━━━━━━━━━━━━━━━━━━━━━━━━━━━━┳━━━━━━━━━━━━━━━━━━━━━━━━┳━━━━━━━━━━━━━━━┓\n",
              "┃<span style=\"font-weight: bold\"> Layer (type)                    </span>┃<span style=\"font-weight: bold\"> Output Shape           </span>┃<span style=\"font-weight: bold\">       Param # </span>┃\n",
              "┡━━━━━━━━━━━━━━━━━━━━━━━━━━━━━━━━━╇━━━━━━━━━━━━━━━━━━━━━━━━╇━━━━━━━━━━━━━━━┩\n",
              "│ dense_10 (<span style=\"color: #0087ff; text-decoration-color: #0087ff\">Dense</span>)                │ (<span style=\"color: #00d7ff; text-decoration-color: #00d7ff\">None</span>, <span style=\"color: #00af00; text-decoration-color: #00af00\">4</span>)              │             <span style=\"color: #00af00; text-decoration-color: #00af00\">8</span> │\n",
              "├─────────────────────────────────┼────────────────────────┼───────────────┤\n",
              "│ dense_11 (<span style=\"color: #0087ff; text-decoration-color: #0087ff\">Dense</span>)                │ (<span style=\"color: #00d7ff; text-decoration-color: #00d7ff\">None</span>, <span style=\"color: #00af00; text-decoration-color: #00af00\">7</span>)              │            <span style=\"color: #00af00; text-decoration-color: #00af00\">35</span> │\n",
              "├─────────────────────────────────┼────────────────────────┼───────────────┤\n",
              "│ dense_12 (<span style=\"color: #0087ff; text-decoration-color: #0087ff\">Dense</span>)                │ (<span style=\"color: #00d7ff; text-decoration-color: #00d7ff\">None</span>, <span style=\"color: #00af00; text-decoration-color: #00af00\">1</span>)              │             <span style=\"color: #00af00; text-decoration-color: #00af00\">8</span> │\n",
              "└─────────────────────────────────┴────────────────────────┴───────────────┘\n",
              "</pre>\n"
            ]
          },
          "metadata": {}
        },
        {
          "output_type": "display_data",
          "data": {
            "text/plain": [
              "\u001b[1m Total params: \u001b[0m\u001b[38;5;34m51\u001b[0m (204.00 B)\n"
            ],
            "text/html": [
              "<pre style=\"white-space:pre;overflow-x:auto;line-height:normal;font-family:Menlo,'DejaVu Sans Mono',consolas,'Courier New',monospace\"><span style=\"font-weight: bold\"> Total params: </span><span style=\"color: #00af00; text-decoration-color: #00af00\">51</span> (204.00 B)\n",
              "</pre>\n"
            ]
          },
          "metadata": {}
        },
        {
          "output_type": "display_data",
          "data": {
            "text/plain": [
              "\u001b[1m Trainable params: \u001b[0m\u001b[38;5;34m51\u001b[0m (204.00 B)\n"
            ],
            "text/html": [
              "<pre style=\"white-space:pre;overflow-x:auto;line-height:normal;font-family:Menlo,'DejaVu Sans Mono',consolas,'Courier New',monospace\"><span style=\"font-weight: bold\"> Trainable params: </span><span style=\"color: #00af00; text-decoration-color: #00af00\">51</span> (204.00 B)\n",
              "</pre>\n"
            ]
          },
          "metadata": {}
        },
        {
          "output_type": "display_data",
          "data": {
            "text/plain": [
              "\u001b[1m Non-trainable params: \u001b[0m\u001b[38;5;34m0\u001b[0m (0.00 B)\n"
            ],
            "text/html": [
              "<pre style=\"white-space:pre;overflow-x:auto;line-height:normal;font-family:Menlo,'DejaVu Sans Mono',consolas,'Courier New',monospace\"><span style=\"font-weight: bold\"> Non-trainable params: </span><span style=\"color: #00af00; text-decoration-color: #00af00\">0</span> (0.00 B)\n",
              "</pre>\n"
            ]
          },
          "metadata": {}
        }
      ],
      "source": [
        "n_inputs = 1\n",
        "n_outputs = 1\n",
        "activation = 'tanh'\n",
        "\n",
        "model = tf.keras.models.Sequential()\n",
        "model.add(tf.keras.layers.Input((n_inputs,)))\n",
        "model.add(tf.keras.layers.Dense(units=4, activation=activation))\n",
        "model.add(tf.keras.layers.Dense(units=7, activation=activation))\n",
        "model.add(tf.keras.layers.Dense(units=n_outputs))\n",
        "\n",
        "model.summary()\n",
        "\n",
        "early_stop = EarlyStopping(\n",
        "    monitor='loss',\n",
        "    patience=8,\n",
        "    restore_best_weights=True\n",
        ")"
      ]
    },
    {
      "cell_type": "code",
      "execution_count": null,
      "metadata": {
        "colab": {
          "base_uri": "https://localhost:8080/"
        },
        "id": "1o9ibOjknDaJ",
        "outputId": "ca0212f8-4914-45a6-ba41-ab695bd75c2a"
      },
      "outputs": [
        {
          "output_type": "stream",
          "name": "stdout",
          "text": [
            "30 30\n",
            "124 2.3881000743131153e-05\n"
          ]
        }
      ],
      "source": [
        "epochs = 1200\n",
        "learning_rate = 0.01\n",
        "\n",
        "model.compile(optimizer=\"adam\", loss=\"mse\")\n",
        "\n",
        "y_frac = 1/(x+2)\n",
        "\n",
        "print(len(x), len(y_frac))\n",
        "\n",
        "history = model.fit(x, y_frac, epochs=epochs, batch_size=1, callbacks=[early_stop], verbose=0)\n",
        "final_epoch = len(history.history['loss'])\n",
        "final_train_error = history.history['loss'][-1]\n",
        "print(final_epoch, final_train_error)"
      ]
    },
    {
      "cell_type": "code",
      "execution_count": null,
      "metadata": {
        "colab": {
          "base_uri": "https://localhost:8080/",
          "height": 489
        },
        "id": "IEMVQrsMnDaJ",
        "outputId": "88ee6523-7c43-4fdf-b031-32f38dd16077"
      },
      "outputs": [
        {
          "output_type": "stream",
          "name": "stdout",
          "text": [
            "\u001b[1m10/10\u001b[0m \u001b[32m━━━━━━━━━━━━━━━━━━━━\u001b[0m\u001b[37m\u001b[0m \u001b[1m0s\u001b[0m 5ms/step \n"
          ]
        },
        {
          "output_type": "display_data",
          "data": {
            "text/plain": [
              "<Figure size 640x480 with 1 Axes>"
            ],
            "image/png": "[encoded data removed]"
          },
          "metadata": {}
        }
      ],
      "source": [
        "x_test = np.linspace(0, 2, 300)\n",
        "y_pred = model.predict(x_test)\n",
        "\n",
        "y_true = 1/(x_test+2)\n",
        "\n",
        "plt.plot(x_test, y_true)\n",
        "plt.plot(x_test, y_pred)\n",
        "plt.title('NN Evaluation of the Fraction')\n",
        "plt.legend(['Analytical Solution', 'NN Prediction'])\n",
        "plt.xlabel(\"x\")\n",
        "plt.ylabel(\"y\")\n",
        "plt.show()"
      ]
    },
    {
      "cell_type": "code",
      "execution_count": null,
      "metadata": {
        "colab": {
          "base_uri": "https://localhost:8080/"
        },
        "id": "UTrWKa8LnDaJ",
        "outputId": "96612f0a-6487-43ab-ff04-725a67bfdf69"
      },
      "outputs": [
        {
          "output_type": "execute_result",
          "data": {
            "text/plain": [
              "array([1.82731681e-05])"
            ]
          },
          "metadata": {},
          "execution_count": 22
        }
      ],
      "source": [
        "val_error = 0\n",
        "for i in range(len(y_pred)):\n",
        "\n",
        "  val_error += (y_pred[i] - y_true[i])**2\n",
        "\n",
        "test_error = val_error/len(y_pred)\n",
        "test_error"
      ]
    },
    {
      "cell_type": "markdown",
      "metadata": {
        "id": "lD6_OZQCnDaK"
      },
      "source": [
        "### Montecarlo"
      ]
    },
    {
      "cell_type": "code",
      "execution_count": null,
      "metadata": {
        "id": "ybfqxTtPnDaK"
      },
      "outputs": [],
      "source": [
        "num_domain = 30\n",
        "minval = 0\n",
        "maxval = 2\n",
        "x = np.linspace(minval, maxval, num_domain)\n",
        "\n",
        "gamma = 1\n",
        "\n",
        "epochs = 1200\n",
        "learning_rate = 0.01\n",
        "\n",
        "n_montecarlo = 24\n",
        "\n",
        "final_epoch_arr = np.zeros(n_montecarlo)\n",
        "final_train_error_arr = np.zeros(n_montecarlo)\n",
        "test_error_arr = np.zeros(n_montecarlo)\n",
        "\n",
        "def nn_frac(j, epochs, learning_rate, x):\n",
        "\n",
        "  n_inputs = 1\n",
        "  n_outputs = 1\n",
        "  activation = 'tanh'\n",
        "\n",
        "  model = tf.keras.models.Sequential()\n",
        "  model.add(tf.keras.layers.Input((n_inputs,)))\n",
        "  model.add(tf.keras.layers.Dense(units=4, activation=activation))\n",
        "  model.add(tf.keras.layers.Dense(units=7, activation=activation))\n",
        "  model.add(tf.keras.layers.Dense(units=n_outputs))\n",
        "\n",
        "  if j == 0:\n",
        "\n",
        "    model.summary()\n",
        "\n",
        "  early_stop = EarlyStopping(\n",
        "      monitor='loss',\n",
        "      patience=8,\n",
        "      restore_best_weights=True\n",
        "  )\n",
        "\n",
        "  model.compile(optimizer=\"adam\", loss=\"mse\")\n",
        "\n",
        "  y_frac = 1/(x+2)\n",
        "\n",
        "  history = model.fit(x, y_frac, epochs=epochs, batch_size=1, callbacks=[early_stop], verbose=0)\n",
        "  final_epoch = len(history.history['loss'])\n",
        "  final_train_error = history.history['loss'][-1]\n",
        "\n",
        "  x_test = np.linspace(0, 2, 300)\n",
        "  y_pred = model.predict(x_test)\n",
        "\n",
        "  y_true = 1/(x_test+2)\n",
        "\n",
        "  val_error = 0\n",
        "  for i in range(len(y_pred)):\n",
        "\n",
        "    val_error += (y_pred[i] - y_true[i])**2\n",
        "\n",
        "  test_error = val_error/len(y_pred)\n",
        "  test_error = test_error[0]\n",
        "\n",
        "  final_epoch_arr[j] = final_epoch\n",
        "  final_train_error_arr[j] = final_train_error\n",
        "  test_error_arr[j] = test_error\n",
        "\n",
        "for j in range(n_montecarlo):\n",
        "\n",
        "  nn_frac(j, epochs, learning_rate, x)\n",
        "\n",
        "final_epoch_mean = final_epoch_arr.mean()\n",
        "final_epoch_var = final_epoch_arr.var()\n",
        "final_train_error_mean = final_train_error_arr.mean()\n",
        "final_train_error_var = final_train_error_arr.var()\n",
        "test_error_mean = test_error_arr.mean()\n",
        "test_error_var = test_error_arr.var()\n",
        "\n",
        "print(f\"\"\"\n",
        "Mean final epoch: {final_epoch_mean}                Final Epoch Variance: {final_epoch_var}\n",
        "Mean final error: {final_train_error_mean}             Final error Variance: {final_train_error_var}\n",
        "Mean testing error: {test_error_mean}         Testing error Variance: {test_error_var}\n",
        "\"\"\")"
      ]
    },
    {
      "cell_type": "markdown",
      "metadata": {
        "id": "qQ-jWVnL84me"
      },
      "source": [
        "## Péndulo"
      ]
    },
    {
      "cell_type": "code",
      "execution_count": null,
      "metadata": {
        "collapsed": true,
        "id": "abn3IQtA7H83"
      },
      "outputs": [],
      "source": [
        "num_domain = 64\n",
        "minval = 0\n",
        "maxval = 2.5\n",
        "\n",
        "x = np.linspace(0, 2.5, 64)\n",
        "\n",
        "gamma = 1\n",
        "g = 9.8\n",
        "L = 1\n",
        "w = np.sqrt(g/L)\n",
        "T = 2*np.pi/w"
      ]
    },
    {
      "cell_type": "code",
      "execution_count": null,
      "metadata": {
        "colab": {
          "base_uri": "https://localhost:8080/",
          "height": 272
        },
        "id": "8Dd3rlCV81Nb",
        "outputId": "47a89e83-ab45-426d-9cd2-8b235ccb875d"
      },
      "outputs": [
        {
          "output_type": "display_data",
          "data": {
            "text/plain": [
              "\u001b[1mModel: \"sequential\"\u001b[0m\n"
            ],
            "text/html": [
              "<pre style=\"white-space:pre;overflow-x:auto;line-height:normal;font-family:Menlo,'DejaVu Sans Mono',consolas,'Courier New',monospace\"><span style=\"font-weight: bold\">Model: \"sequential\"</span>\n",
              "</pre>\n"
            ]
          },
          "metadata": {}
        },
        {
          "output_type": "display_data",
          "data": {
            "text/plain": [
              "┏━━━━━━━━━━━━━━━━━━━━━━━━━━━━━━━━━┳━━━━━━━━━━━━━━━━━━━━━━━━┳━━━━━━━━━━━━━━━┓\n",
              "┃\u001b[1m \u001b[0m\u001b[1mLayer (type)                   \u001b[0m\u001b[1m \u001b[0m┃\u001b[1m \u001b[0m\u001b[1mOutput Shape          \u001b[0m\u001b[1m \u001b[0m┃\u001b[1m \u001b[0m\u001b[1m      Param #\u001b[0m\u001b[1m \u001b[0m┃\n",
              "┡━━━━━━━━━━━━━━━━━━━━━━━━━━━━━━━━━╇━━━━━━━━━━━━━━━━━━━━━━━━╇━━━━━━━━━━━━━━━┩\n",
              "│ dense (\u001b[38;5;33mDense\u001b[0m)                   │ (\u001b[38;5;45mNone\u001b[0m, \u001b[38;5;34m4\u001b[0m)              │             \u001b[38;5;34m8\u001b[0m │\n",
              "├─────────────────────────────────┼────────────────────────┼───────────────┤\n",
              "│ dense_1 (\u001b[38;5;33mDense\u001b[0m)                 │ (\u001b[38;5;45mNone\u001b[0m, \u001b[38;5;34m4\u001b[0m)              │            \u001b[38;5;34m20\u001b[0m │\n",
              "├─────────────────────────────────┼────────────────────────┼───────────────┤\n",
              "│ dense_2 (\u001b[38;5;33mDense\u001b[0m)                 │ (\u001b[38;5;45mNone\u001b[0m, \u001b[38;5;34m7\u001b[0m)              │            \u001b[38;5;34m35\u001b[0m │\n",
              "├─────────────────────────────────┼────────────────────────┼───────────────┤\n",
              "│ dense_3 (\u001b[38;5;33mDense\u001b[0m)                 │ (\u001b[38;5;45mNone\u001b[0m, \u001b[38;5;34m1\u001b[0m)              │             \u001b[38;5;34m8\u001b[0m │\n",
              "└─────────────────────────────────┴────────────────────────┴───────────────┘\n"
            ],
            "text/html": [
              "<pre style=\"white-space:pre;overflow-x:auto;line-height:normal;font-family:Menlo,'DejaVu Sans Mono',consolas,'Courier New',monospace\">┏━━━━━━━━━━━━━━━━━━━━━━━━━━━━━━━━━┳━━━━━━━━━━━━━━━━━━━━━━━━┳━━━━━━━━━━━━━━━┓\n",
              "┃<span style=\"font-weight: bold\"> Layer (type)                    </span>┃<span style=\"font-weight: bold\"> Output Shape           </span>┃<span style=\"font-weight: bold\">       Param # </span>┃\n",
              "┡━━━━━━━━━━━━━━━━━━━━━━━━━━━━━━━━━╇━━━━━━━━━━━━━━━━━━━━━━━━╇━━━━━━━━━━━━━━━┩\n",
              "│ dense (<span style=\"color: #0087ff; text-decoration-color: #0087ff\">Dense</span>)                   │ (<span style=\"color: #00d7ff; text-decoration-color: #00d7ff\">None</span>, <span style=\"color: #00af00; text-decoration-color: #00af00\">4</span>)              │             <span style=\"color: #00af00; text-decoration-color: #00af00\">8</span> │\n",
              "├─────────────────────────────────┼────────────────────────┼───────────────┤\n",
              "│ dense_1 (<span style=\"color: #0087ff; text-decoration-color: #0087ff\">Dense</span>)                 │ (<span style=\"color: #00d7ff; text-decoration-color: #00d7ff\">None</span>, <span style=\"color: #00af00; text-decoration-color: #00af00\">4</span>)              │            <span style=\"color: #00af00; text-decoration-color: #00af00\">20</span> │\n",
              "├─────────────────────────────────┼────────────────────────┼───────────────┤\n",
              "│ dense_2 (<span style=\"color: #0087ff; text-decoration-color: #0087ff\">Dense</span>)                 │ (<span style=\"color: #00d7ff; text-decoration-color: #00d7ff\">None</span>, <span style=\"color: #00af00; text-decoration-color: #00af00\">7</span>)              │            <span style=\"color: #00af00; text-decoration-color: #00af00\">35</span> │\n",
              "├─────────────────────────────────┼────────────────────────┼───────────────┤\n",
              "│ dense_3 (<span style=\"color: #0087ff; text-decoration-color: #0087ff\">Dense</span>)                 │ (<span style=\"color: #00d7ff; text-decoration-color: #00d7ff\">None</span>, <span style=\"color: #00af00; text-decoration-color: #00af00\">1</span>)              │             <span style=\"color: #00af00; text-decoration-color: #00af00\">8</span> │\n",
              "└─────────────────────────────────┴────────────────────────┴───────────────┘\n",
              "</pre>\n"
            ]
          },
          "metadata": {}
        },
        {
          "output_type": "display_data",
          "data": {
            "text/plain": [
              "\u001b[1m Total params: \u001b[0m\u001b[38;5;34m71\u001b[0m (284.00 B)\n"
            ],
            "text/html": [
              "<pre style=\"white-space:pre;overflow-x:auto;line-height:normal;font-family:Menlo,'DejaVu Sans Mono',consolas,'Courier New',monospace\"><span style=\"font-weight: bold\"> Total params: </span><span style=\"color: #00af00; text-decoration-color: #00af00\">71</span> (284.00 B)\n",
              "</pre>\n"
            ]
          },
          "metadata": {}
        },
        {
          "output_type": "display_data",
          "data": {
            "text/plain": [
              "\u001b[1m Trainable params: \u001b[0m\u001b[38;5;34m71\u001b[0m (284.00 B)\n"
            ],
            "text/html": [
              "<pre style=\"white-space:pre;overflow-x:auto;line-height:normal;font-family:Menlo,'DejaVu Sans Mono',consolas,'Courier New',monospace\"><span style=\"font-weight: bold\"> Trainable params: </span><span style=\"color: #00af00; text-decoration-color: #00af00\">71</span> (284.00 B)\n",
              "</pre>\n"
            ]
          },
          "metadata": {}
        },
        {
          "output_type": "display_data",
          "data": {
            "text/plain": [
              "\u001b[1m Non-trainable params: \u001b[0m\u001b[38;5;34m0\u001b[0m (0.00 B)\n"
            ],
            "text/html": [
              "<pre style=\"white-space:pre;overflow-x:auto;line-height:normal;font-family:Menlo,'DejaVu Sans Mono',consolas,'Courier New',monospace\"><span style=\"font-weight: bold\"> Non-trainable params: </span><span style=\"color: #00af00; text-decoration-color: #00af00\">0</span> (0.00 B)\n",
              "</pre>\n"
            ]
          },
          "metadata": {}
        }
      ],
      "source": [
        "n_inputs = 1\n",
        "n_outputs = 1\n",
        "activation = 'tanh'\n",
        "\n",
        "model = tf.keras.models.Sequential()\n",
        "model.add(tf.keras.layers.Input((n_inputs,)))\n",
        "model.add(tf.keras.layers.Dense(units=4, activation=activation))\n",
        "model.add(tf.keras.layers.Dense(units=4, activation=activation))\n",
        "model.add(tf.keras.layers.Dense(units=7, activation=activation))\n",
        "model.add(tf.keras.layers.Dense(units=n_outputs))\n",
        "\n",
        "model.summary()\n",
        "\n",
        "early_stop = EarlyStopping(\n",
        "    monitor='loss',\n",
        "    patience=15,\n",
        "    restore_best_weights=True\n",
        ")"
      ]
    },
    {
      "cell_type": "code",
      "execution_count": null,
      "metadata": {
        "colab": {
          "base_uri": "https://localhost:8080/"
        },
        "id": "tz-_WT6E9BFs",
        "outputId": "3e37c298-4a41-46d4-99af-0d321aab14fc"
      },
      "outputs": [
        {
          "output_type": "stream",
          "name": "stdout",
          "text": [
            "64 64\n",
            "2000 0.0003296021022833884\n"
          ]
        }
      ],
      "source": [
        "epochs = 2000\n",
        "learning_rate = 0.01\n",
        "\n",
        "model.compile(optimizer=\"adam\", loss=\"mse\", metrics=[\"mse\"])\n",
        "\n",
        "theta0 = np.pi / 4  # Initial angle (rad)\n",
        "omega0 = 0.0        # Initial angular velocity (rad/s)\n",
        "t_0 = 0           # Start time (s)\n",
        "t_f = 2.5           # End time (s)\n",
        "dt = (t_f-t_0)/63           # Time step (s)\n",
        "\n",
        "# Number of steps\n",
        "n = int((t_f - t_0) / dt)\n",
        "\n",
        "# Arrays to store results\n",
        "t = np.linspace(t_0, t_f, n+1)\n",
        "y_kutta = np.zeros(n+1)\n",
        "omega = np.zeros(n+1)\n",
        "\n",
        "# Initial conditions\n",
        "y_kutta[0] = theta0\n",
        "omega[0] = omega0\n",
        "\n",
        "# Define the system of ODEs\n",
        "def f_theta(y_kutta, omega):\n",
        "    return omega\n",
        "\n",
        "def f_omega(y_kutta, omega):\n",
        "    return - (g / L) * np.sin(y_kutta)\n",
        "\n",
        "# Runge-Kutta 4th Order Method\n",
        "for i in range(n):\n",
        "    k1_theta = dt * f_theta(y_kutta[i], omega[i])\n",
        "    k1_omega = dt * f_omega(y_kutta[i], omega[i])\n",
        "\n",
        "    k2_theta = dt * f_theta(y_kutta[i] + 0.5 * k1_theta, omega[i] + 0.5 * k1_omega)\n",
        "    k2_omega = dt * f_omega(y_kutta[i] + 0.5 * k1_theta, omega[i] + 0.5 * k1_omega)\n",
        "\n",
        "    k3_theta = dt * f_theta(y_kutta[i] + 0.5 * k2_theta, omega[i] + 0.5 * k2_omega)\n",
        "    k3_omega = dt * f_omega(y_kutta[i] + 0.5 * k2_theta, omega[i] + 0.5 * k2_omega)\n",
        "\n",
        "    k4_theta = dt * f_theta(y_kutta[i] + k3_theta, omega[i] + k3_omega)\n",
        "    k4_omega = dt * f_omega(y_kutta[i] + k3_theta, omega[i] + k3_omega)\n",
        "\n",
        "    y_kutta[i+1] = y_kutta[i] + (k1_theta + 2*k2_theta + 2*k3_theta + k4_theta) / 6\n",
        "    omega[i+1] = omega[i] + (k1_omega + 2*k2_omega + 2*k3_omega + k4_omega) / 6\n",
        "\n",
        "print(len(x), len(y_kutta))\n",
        "\n",
        "history = model.fit(x, y_kutta, epochs=epochs, batch_size=1, callbacks=[early_stop], verbose=0)\n",
        "final_epoch = len(history.history['loss'])\n",
        "final_train_error = history.history['loss'][-1]\n",
        "print(final_epoch, final_train_error)"
      ]
    },
    {
      "cell_type": "code",
      "execution_count": null,
      "metadata": {
        "colab": {
          "base_uri": "https://localhost:8080/",
          "height": 489
        },
        "id": "GuL8lVu4_-3D",
        "outputId": "afa6268d-51f2-4218-b738-b9626b93838b"
      },
      "outputs": [
        {
          "output_type": "stream",
          "name": "stdout",
          "text": [
            "\u001b[1m10/10\u001b[0m \u001b[32m━━━━━━━━━━━━━━━━━━━━\u001b[0m\u001b[37m\u001b[0m \u001b[1m0s\u001b[0m 2ms/step \n"
          ]
        },
        {
          "output_type": "display_data",
          "data": {
            "text/plain": [
              "<Figure size 640x480 with 1 Axes>"
            ],
            "image/png": "[encoded data removed]"
          },
          "metadata": {}
        }
      ],
      "source": [
        "x_test = np.linspace(0, 2.5, 300)\n",
        "y_pred = model.predict(x_test)\n",
        "\n",
        "theta0 = np.pi / 4  # Initial angle (rad)\n",
        "omega0 = 0.0        # Initial angular velocity (rad/s)\n",
        "t_0 = 0           # Start time (s)\n",
        "t_f = 2.5           # End time (s)\n",
        "dt = (t_f-t_0)/299           # Time step (s)\n",
        "\n",
        "# Number of steps\n",
        "n = int((t_f - t_0) / dt)\n",
        "\n",
        "# Arrays to store results\n",
        "t = np.linspace(t_0, t_f, n+1)\n",
        "y_kutta = np.zeros(n+1)\n",
        "omega = np.zeros(n+1)\n",
        "\n",
        "# Initial conditions\n",
        "y_kutta[0] = theta0\n",
        "omega[0] = omega0\n",
        "\n",
        "# Define the system of ODEs\n",
        "def f_theta(y_kutta, omega):\n",
        "    return omega\n",
        "\n",
        "def f_omega(y_kutta, omega):\n",
        "    return - (g / L) * np.sin(y_kutta)\n",
        "\n",
        "# Runge-Kutta 4th Order Method\n",
        "for i in range(n):\n",
        "    k1_theta = dt * f_theta(y_kutta[i], omega[i])\n",
        "    k1_omega = dt * f_omega(y_kutta[i], omega[i])\n",
        "\n",
        "    k2_theta = dt * f_theta(y_kutta[i] + 0.5 * k1_theta, omega[i] + 0.5 * k1_omega)\n",
        "    k2_omega = dt * f_omega(y_kutta[i] + 0.5 * k1_theta, omega[i] + 0.5 * k1_omega)\n",
        "\n",
        "    k3_theta = dt * f_theta(y_kutta[i] + 0.5 * k2_theta, omega[i] + 0.5 * k2_omega)\n",
        "    k3_omega = dt * f_omega(y_kutta[i] + 0.5 * k2_theta, omega[i] + 0.5 * k2_omega)\n",
        "\n",
        "    k4_theta = dt * f_theta(y_kutta[i] + k3_theta, omega[i] + k3_omega)\n",
        "    k4_omega = dt * f_omega(y_kutta[i] + k3_theta, omega[i] + k3_omega)\n",
        "\n",
        "    y_kutta[i+1] = y_kutta[i] + (k1_theta + 2*k2_theta + 2*k3_theta + k4_theta) / 6\n",
        "    omega[i+1] = omega[i] + (k1_omega + 2*k2_omega + 2*k3_omega + k4_omega) / 6\n",
        "\n",
        "y_para = np.pi/4 * np.sin(w*x_test + np.pi/2)\n",
        "\n",
        "plt.plot(x_test, y_para)\n",
        "plt.plot(x_test, y_kutta)\n",
        "plt.plot(x_test, y_pred)\n",
        "plt.title('NN Evaluation of the Pendulum')\n",
        "plt.legend(['Paraxial Approximation', 'Runge-Kutta Method', 'NN Prediction'])\n",
        "plt.xlabel(\"t (s)\")\n",
        "plt.ylabel(\"θ (rad)\")\n",
        "plt.show()"
      ]
    },
    {
      "cell_type": "code",
      "execution_count": null,
      "metadata": {
        "colab": {
          "base_uri": "https://localhost:8080/"
        },
        "id": "gcllYKGe0Eq3",
        "outputId": "6fdaaf09-6634-4c71-e1c9-43117df94ef0"
      },
      "outputs": [
        {
          "output_type": "execute_result",
          "data": {
            "text/plain": [
              "array([0.00013481])"
            ]
          },
          "metadata": {},
          "execution_count": 9
        }
      ],
      "source": [
        "val_error = 0\n",
        "for i in range(len(y_pred)):\n",
        "\n",
        "  val_error += (y_pred[i] - y_kutta[i])**2\n",
        "\n",
        "test_error = val_error/len(y_pred)\n",
        "test_error"
      ]
    },
    {
      "cell_type": "code",
      "execution_count": null,
      "metadata": {
        "colab": {
          "base_uri": "https://localhost:8080/",
          "height": 489
        },
        "id": "TDU01LK7vkoZ",
        "outputId": "9515496a-7a60-4fb4-f533-1fdb82e39b6e"
      },
      "outputs": [
        {
          "output_type": "stream",
          "name": "stdout",
          "text": [
            "\u001b[1m10/10\u001b[0m \u001b[32m━━━━━━━━━━━━━━━━━━━━\u001b[0m\u001b[37m\u001b[0m \u001b[1m0s\u001b[0m 2ms/step \n"
          ]
        },
        {
          "output_type": "display_data",
          "data": {
            "text/plain": [
              "<Figure size 640x480 with 1 Axes>"
            ],
            "image/png": "[encoded data removed]"
          },
          "metadata": {}
        }
      ],
      "source": [
        "x_test = np.linspace(0, 4, 300)\n",
        "y_pred = model.predict(x_test)\n",
        "\n",
        "theta0 = np.pi / 4  # Initial angle (rad)\n",
        "omega0 = 0.0        # Initial angular velocity (rad/s)\n",
        "t_0 = 0           # Start time (s)\n",
        "t_f = 4           # End time (s)\n",
        "dt = (t_f-t_0)/299           # Time step (s)\n",
        "\n",
        "# Number of steps\n",
        "n = int((t_f - t_0) / dt)\n",
        "\n",
        "# Arrays to store results\n",
        "t = np.linspace(t_0, t_f, n+1)\n",
        "y_kutta = np.zeros(n+1)\n",
        "omega = np.zeros(n+1)\n",
        "\n",
        "# Initial conditions\n",
        "y_kutta[0] = theta0\n",
        "omega[0] = omega0\n",
        "\n",
        "# Define the system of ODEs\n",
        "def f_theta(y_kutta, omega):\n",
        "    return omega\n",
        "\n",
        "def f_omega(y_kutta, omega):\n",
        "    return - (g / L) * np.sin(y_kutta)\n",
        "\n",
        "# Runge-Kutta 4th Order Method\n",
        "for i in range(n):\n",
        "    k1_theta = dt * f_theta(y_kutta[i], omega[i])\n",
        "    k1_omega = dt * f_omega(y_kutta[i], omega[i])\n",
        "\n",
        "    k2_theta = dt * f_theta(y_kutta[i] + 0.5 * k1_theta, omega[i] + 0.5 * k1_omega)\n",
        "    k2_omega = dt * f_omega(y_kutta[i] + 0.5 * k1_theta, omega[i] + 0.5 * k1_omega)\n",
        "\n",
        "    k3_theta = dt * f_theta(y_kutta[i] + 0.5 * k2_theta, omega[i] + 0.5 * k2_omega)\n",
        "    k3_omega = dt * f_omega(y_kutta[i] + 0.5 * k2_theta, omega[i] + 0.5 * k2_omega)\n",
        "\n",
        "    k4_theta = dt * f_theta(y_kutta[i] + k3_theta, omega[i] + k3_omega)\n",
        "    k4_omega = dt * f_omega(y_kutta[i] + k3_theta, omega[i] + k3_omega)\n",
        "\n",
        "    y_kutta[i+1] = y_kutta[i] + (k1_theta + 2*k2_theta + 2*k3_theta + k4_theta) / 6\n",
        "    omega[i+1] = omega[i] + (k1_omega + 2*k2_omega + 2*k3_omega + k4_omega) / 6\n",
        "\n",
        "y_para = np.pi/4 * np.sin(w*x_test + np.pi/2)\n",
        "\n",
        "plt.plot(x_test, y_para)\n",
        "plt.plot(x_test, y_kutta)\n",
        "plt.plot(x_test, y_pred)\n",
        "plt.vlines(2.5, min(min(y_para), min(y_pred)), max(max(y_para), max(y_pred)), colors=\"r\")\n",
        "plt.title('NN Evaluation outside of Domain')\n",
        "plt.legend(['Paraxial Approximation', 'Runge-Kutta Method', 'NN Prediction', 'End of training domain'])\n",
        "plt.xlabel(\"t (s)\")\n",
        "plt.ylabel(\"θ (rad)\")\n",
        "plt.show()"
      ]
    },
    {
      "cell_type": "markdown",
      "metadata": {
        "id": "DILaPIaaBydN"
      },
      "source": [
        "### Montecarlo"
      ]
    },
    {
      "cell_type": "code",
      "execution_count": null,
      "metadata": {
        "colab": {
          "base_uri": "https://localhost:8080/",
          "height": 775
        },
        "id": "7HRL-xdLB1aR",
        "outputId": "ae261f1d-9c63-4360-bdac-2e00cd025b14"
      },
      "outputs": [
        {
          "data": {
            "text/html": [
              "<pre style=\"white-space:pre;overflow-x:auto;line-height:normal;font-family:Menlo,'DejaVu Sans Mono',consolas,'Courier New',monospace\"><span style=\"font-weight: bold\">Model: \"sequential_82\"</span>\n",
              "</pre>\n"
            ],
            "text/plain": [
              "\u001b[1mModel: \"sequential_82\"\u001b[0m\n"
            ]
          },
          "metadata": {},
          "output_type": "display_data"
        },
        {
          "data": {
            "text/html": [
              "<pre style=\"white-space:pre;overflow-x:auto;line-height:normal;font-family:Menlo,'DejaVu Sans Mono',consolas,'Courier New',monospace\">┏━━━━━━━━━━━━━━━━━━━━━━━━━━━━━━━━━┳━━━━━━━━━━━━━━━━━━━━━━━━┳━━━━━━━━━━━━━━━┓\n",
              "┃<span style=\"font-weight: bold\"> Layer (type)                    </span>┃<span style=\"font-weight: bold\"> Output Shape           </span>┃<span style=\"font-weight: bold\">       Param # </span>┃\n",
              "┡━━━━━━━━━━━━━━━━━━━━━━━━━━━━━━━━━╇━━━━━━━━━━━━━━━━━━━━━━━━╇━━━━━━━━━━━━━━━┩\n",
              "│ dense_298 (<span style=\"color: #0087ff; text-decoration-color: #0087ff\">Dense</span>)               │ (<span style=\"color: #00d7ff; text-decoration-color: #00d7ff\">None</span>, <span style=\"color: #00af00; text-decoration-color: #00af00\">4</span>)              │             <span style=\"color: #00af00; text-decoration-color: #00af00\">8</span> │\n",
              "├─────────────────────────────────┼────────────────────────┼───────────────┤\n",
              "│ dense_299 (<span style=\"color: #0087ff; text-decoration-color: #0087ff\">Dense</span>)               │ (<span style=\"color: #00d7ff; text-decoration-color: #00d7ff\">None</span>, <span style=\"color: #00af00; text-decoration-color: #00af00\">4</span>)              │            <span style=\"color: #00af00; text-decoration-color: #00af00\">20</span> │\n",
              "├─────────────────────────────────┼────────────────────────┼───────────────┤\n",
              "│ dense_300 (<span style=\"color: #0087ff; text-decoration-color: #0087ff\">Dense</span>)               │ (<span style=\"color: #00d7ff; text-decoration-color: #00d7ff\">None</span>, <span style=\"color: #00af00; text-decoration-color: #00af00\">7</span>)              │            <span style=\"color: #00af00; text-decoration-color: #00af00\">35</span> │\n",
              "├─────────────────────────────────┼────────────────────────┼───────────────┤\n",
              "│ dense_301 (<span style=\"color: #0087ff; text-decoration-color: #0087ff\">Dense</span>)               │ (<span style=\"color: #00d7ff; text-decoration-color: #00d7ff\">None</span>, <span style=\"color: #00af00; text-decoration-color: #00af00\">1</span>)              │             <span style=\"color: #00af00; text-decoration-color: #00af00\">8</span> │\n",
              "└─────────────────────────────────┴────────────────────────┴───────────────┘\n",
              "</pre>\n"
            ],
            "text/plain": [
              "┏━━━━━━━━━━━━━━━━━━━━━━━━━━━━━━━━━┳━━━━━━━━━━━━━━━━━━━━━━━━┳━━━━━━━━━━━━━━━┓\n",
              "┃\u001b[1m \u001b[0m\u001b[1mLayer (type)                   \u001b[0m\u001b[1m \u001b[0m┃\u001b[1m \u001b[0m\u001b[1mOutput Shape          \u001b[0m\u001b[1m \u001b[0m┃\u001b[1m \u001b[0m\u001b[1m      Param #\u001b[0m\u001b[1m \u001b[0m┃\n",
              "┡━━━━━━━━━━━━━━━━━━━━━━━━━━━━━━━━━╇━━━━━━━━━━━━━━━━━━━━━━━━╇━━━━━━━━━━━━━━━┩\n",
              "│ dense_298 (\u001b[38;5;33mDense\u001b[0m)               │ (\u001b[38;5;45mNone\u001b[0m, \u001b[38;5;34m4\u001b[0m)              │             \u001b[38;5;34m8\u001b[0m │\n",
              "├─────────────────────────────────┼────────────────────────┼───────────────┤\n",
              "│ dense_299 (\u001b[38;5;33mDense\u001b[0m)               │ (\u001b[38;5;45mNone\u001b[0m, \u001b[38;5;34m4\u001b[0m)              │            \u001b[38;5;34m20\u001b[0m │\n",
              "├─────────────────────────────────┼────────────────────────┼───────────────┤\n",
              "│ dense_300 (\u001b[38;5;33mDense\u001b[0m)               │ (\u001b[38;5;45mNone\u001b[0m, \u001b[38;5;34m7\u001b[0m)              │            \u001b[38;5;34m35\u001b[0m │\n",
              "├─────────────────────────────────┼────────────────────────┼───────────────┤\n",
              "│ dense_301 (\u001b[38;5;33mDense\u001b[0m)               │ (\u001b[38;5;45mNone\u001b[0m, \u001b[38;5;34m1\u001b[0m)              │             \u001b[38;5;34m8\u001b[0m │\n",
              "└─────────────────────────────────┴────────────────────────┴───────────────┘\n"
            ]
          },
          "metadata": {},
          "output_type": "display_data"
        },
        {
          "data": {
            "text/html": [
              "<pre style=\"white-space:pre;overflow-x:auto;line-height:normal;font-family:Menlo,'DejaVu Sans Mono',consolas,'Courier New',monospace\"><span style=\"font-weight: bold\"> Total params: </span><span style=\"color: #00af00; text-decoration-color: #00af00\">71</span> (284.00 B)\n",
              "</pre>\n"
            ],
            "text/plain": [
              "\u001b[1m Total params: \u001b[0m\u001b[38;5;34m71\u001b[0m (284.00 B)\n"
            ]
          },
          "metadata": {},
          "output_type": "display_data"
        },
        {
          "data": {
            "text/html": [
              "<pre style=\"white-space:pre;overflow-x:auto;line-height:normal;font-family:Menlo,'DejaVu Sans Mono',consolas,'Courier New',monospace\"><span style=\"font-weight: bold\"> Trainable params: </span><span style=\"color: #00af00; text-decoration-color: #00af00\">71</span> (284.00 B)\n",
              "</pre>\n"
            ],
            "text/plain": [
              "\u001b[1m Trainable params: \u001b[0m\u001b[38;5;34m71\u001b[0m (284.00 B)\n"
            ]
          },
          "metadata": {},
          "output_type": "display_data"
        },
        {
          "data": {
            "text/html": [
              "<pre style=\"white-space:pre;overflow-x:auto;line-height:normal;font-family:Menlo,'DejaVu Sans Mono',consolas,'Courier New',monospace\"><span style=\"font-weight: bold\"> Non-trainable params: </span><span style=\"color: #00af00; text-decoration-color: #00af00\">0</span> (0.00 B)\n",
              "</pre>\n"
            ],
            "text/plain": [
              "\u001b[1m Non-trainable params: \u001b[0m\u001b[38;5;34m0\u001b[0m (0.00 B)\n"
            ]
          },
          "metadata": {},
          "output_type": "display_data"
        },
        {
          "name": "stdout",
          "output_type": "stream",
          "text": [
            "\u001b[1m10/10\u001b[0m \u001b[32m━━━━━━━━━━━━━━━━━━━━\u001b[0m\u001b[37m\u001b[0m \u001b[1m0s\u001b[0m 8ms/step\n",
            "\u001b[1m10/10\u001b[0m \u001b[32m━━━━━━━━━━━━━━━━━━━━\u001b[0m\u001b[37m\u001b[0m \u001b[1m0s\u001b[0m 8ms/step\n",
            "\u001b[1m10/10\u001b[0m \u001b[32m━━━━━━━━━━━━━━━━━━━━\u001b[0m\u001b[37m\u001b[0m \u001b[1m0s\u001b[0m 8ms/step\n",
            "\u001b[1m10/10\u001b[0m \u001b[32m━━━━━━━━━━━━━━━━━━━━\u001b[0m\u001b[37m\u001b[0m \u001b[1m0s\u001b[0m 10ms/step\n",
            "\u001b[1m10/10\u001b[0m \u001b[32m━━━━━━━━━━━━━━━━━━━━\u001b[0m\u001b[37m\u001b[0m \u001b[1m0s\u001b[0m 13ms/step\n",
            "\u001b[1m10/10\u001b[0m \u001b[32m━━━━━━━━━━━━━━━━━━━━\u001b[0m\u001b[37m\u001b[0m \u001b[1m0s\u001b[0m 12ms/step\n",
            "\u001b[1m10/10\u001b[0m \u001b[32m━━━━━━━━━━━━━━━━━━━━\u001b[0m\u001b[37m\u001b[0m \u001b[1m0s\u001b[0m 12ms/step\n",
            "\u001b[1m10/10\u001b[0m \u001b[32m━━━━━━━━━━━━━━━━━━━━\u001b[0m\u001b[37m\u001b[0m \u001b[1m0s\u001b[0m 11ms/step\n",
            "\u001b[1m10/10\u001b[0m \u001b[32m━━━━━━━━━━━━━━━━━━━━\u001b[0m\u001b[37m\u001b[0m \u001b[1m0s\u001b[0m 9ms/step\n",
            "\u001b[1m10/10\u001b[0m \u001b[32m━━━━━━━━━━━━━━━━━━━━\u001b[0m\u001b[37m\u001b[0m \u001b[1m0s\u001b[0m 8ms/step\n",
            "\u001b[1m10/10\u001b[0m \u001b[32m━━━━━━━━━━━━━━━━━━━━\u001b[0m\u001b[37m\u001b[0m \u001b[1m0s\u001b[0m 8ms/step\n",
            "\u001b[1m10/10\u001b[0m \u001b[32m━━━━━━━━━━━━━━━━━━━━\u001b[0m\u001b[37m\u001b[0m \u001b[1m0s\u001b[0m 8ms/step\n",
            "\u001b[1m10/10\u001b[0m \u001b[32m━━━━━━━━━━━━━━━━━━━━\u001b[0m\u001b[37m\u001b[0m \u001b[1m0s\u001b[0m 8ms/step\n",
            "\u001b[1m10/10\u001b[0m \u001b[32m━━━━━━━━━━━━━━━━━━━━\u001b[0m\u001b[37m\u001b[0m \u001b[1m0s\u001b[0m 12ms/step\n",
            "\u001b[1m10/10\u001b[0m \u001b[32m━━━━━━━━━━━━━━━━━━━━\u001b[0m\u001b[37m\u001b[0m \u001b[1m0s\u001b[0m 8ms/step\n",
            "\u001b[1m10/10\u001b[0m \u001b[32m━━━━━━━━━━━━━━━━━━━━\u001b[0m\u001b[37m\u001b[0m \u001b[1m0s\u001b[0m 8ms/step\n",
            "\u001b[1m10/10\u001b[0m \u001b[32m━━━━━━━━━━━━━━━━━━━━\u001b[0m\u001b[37m\u001b[0m \u001b[1m0s\u001b[0m 8ms/step\n",
            "\u001b[1m10/10\u001b[0m \u001b[32m━━━━━━━━━━━━━━━━━━━━\u001b[0m\u001b[37m\u001b[0m \u001b[1m0s\u001b[0m 8ms/step\n",
            "\u001b[1m10/10\u001b[0m \u001b[32m━━━━━━━━━━━━━━━━━━━━\u001b[0m\u001b[37m\u001b[0m \u001b[1m0s\u001b[0m 8ms/step\n",
            "\u001b[1m10/10\u001b[0m \u001b[32m━━━━━━━━━━━━━━━━━━━━\u001b[0m\u001b[37m\u001b[0m \u001b[1m0s\u001b[0m 9ms/step\n",
            "\u001b[1m10/10\u001b[0m \u001b[32m━━━━━━━━━━━━━━━━━━━━\u001b[0m\u001b[37m\u001b[0m \u001b[1m0s\u001b[0m 8ms/step\n",
            "\u001b[1m10/10\u001b[0m \u001b[32m━━━━━━━━━━━━━━━━━━━━\u001b[0m\u001b[37m\u001b[0m \u001b[1m0s\u001b[0m 8ms/step\n",
            "\u001b[1m10/10\u001b[0m \u001b[32m━━━━━━━━━━━━━━━━━━━━\u001b[0m\u001b[37m\u001b[0m \u001b[1m0s\u001b[0m 8ms/step\n",
            "\u001b[1m10/10\u001b[0m \u001b[32m━━━━━━━━━━━━━━━━━━━━\u001b[0m\u001b[37m\u001b[0m \u001b[1m0s\u001b[0m 8ms/step\n",
            "\n",
            "Mean final epoch: 1158.7083333333333                Final Epoch Variance: 420397.6232638888\n",
            "Mean final error: 0.0002754163015197264             Final error Variance: 1.0841811739784213e-08\n",
            "Mean testing error: 0.00020921388108587142         Testing error Variance: 1.5632830390471456e-08\n",
            "\n"
          ]
        }
      ],
      "source": [
        "num_domain = 64\n",
        "minval = 0\n",
        "maxval = 2.5\n",
        "x = np.linspace(minval, maxval, num_domain)\n",
        "\n",
        "gamma = 1\n",
        "\n",
        "g = 9.8\n",
        "L = 1\n",
        "w = np.sqrt(g/L)\n",
        "T = 2*np.pi/w\n",
        "\n",
        "epochs = 2000\n",
        "learning_rate = 0.02\n",
        "\n",
        "n_montecarlo = 24\n",
        "\n",
        "final_epoch_arr = np.zeros(n_montecarlo)\n",
        "final_train_error_arr = np.zeros(n_montecarlo)\n",
        "test_error_arr = np.zeros(n_montecarlo)\n",
        "\n",
        "def nn_pend(j, epochs, learning_rate, x):\n",
        "\n",
        "  n_inputs = 1\n",
        "  n_outputs = 1\n",
        "  activation = 'tanh'\n",
        "\n",
        "  model = tf.keras.models.Sequential()\n",
        "  model.add(tf.keras.layers.Input((n_inputs,)))\n",
        "  model.add(tf.keras.layers.Dense(units=4, activation=activation))\n",
        "  model.add(tf.keras.layers.Dense(units=4, activation=activation))\n",
        "  model.add(tf.keras.layers.Dense(units=7, activation=activation))\n",
        "  model.add(tf.keras.layers.Dense(units=n_outputs))\n",
        "\n",
        "  if j == 0:\n",
        "\n",
        "    model.summary()\n",
        "\n",
        "  early_stop = EarlyStopping(\n",
        "      monitor='loss',\n",
        "      patience=8,\n",
        "      restore_best_weights=True\n",
        "  )\n",
        "\n",
        "  model.compile(optimizer=\"adam\", loss=\"mse\")\n",
        "\n",
        "  theta0 = np.pi / 4  # Initial angle (rad)\n",
        "  omega0 = 0.0        # Initial angular velocity (rad/s)\n",
        "  t_0 = 0           # Start time (s)\n",
        "  t_f = 2.5           # End time (s)\n",
        "  dt = (t_f-t_0)/63           # Time step (s)\n",
        "\n",
        "  # Number of steps\n",
        "  n = int((t_f - t_0) / dt)\n",
        "\n",
        "  # Arrays to store results\n",
        "  t = np.linspace(t_0, t_f, n+1)\n",
        "  y_kutta = np.zeros(n+1)\n",
        "  omega = np.zeros(n+1)\n",
        "\n",
        "  # Initial conditions\n",
        "  y_kutta[0] = theta0\n",
        "  omega[0] = omega0\n",
        "\n",
        "  # Define the system of ODEs\n",
        "  def f_theta(y_kutta, omega):\n",
        "      return omega\n",
        "\n",
        "  def f_omega(y_kutta, omega):\n",
        "      return - (g / L) * np.sin(y_kutta)\n",
        "\n",
        "  # Runge-Kutta 4th Order Method\n",
        "  for i in range(n):\n",
        "      k1_theta = dt * f_theta(y_kutta[i], omega[i])\n",
        "      k1_omega = dt * f_omega(y_kutta[i], omega[i])\n",
        "\n",
        "      k2_theta = dt * f_theta(y_kutta[i] + 0.5 * k1_theta, omega[i] + 0.5 * k1_omega)\n",
        "      k2_omega = dt * f_omega(y_kutta[i] + 0.5 * k1_theta, omega[i] + 0.5 * k1_omega)\n",
        "\n",
        "      k3_theta = dt * f_theta(y_kutta[i] + 0.5 * k2_theta, omega[i] + 0.5 * k2_omega)\n",
        "      k3_omega = dt * f_omega(y_kutta[i] + 0.5 * k2_theta, omega[i] + 0.5 * k2_omega)\n",
        "\n",
        "      k4_theta = dt * f_theta(y_kutta[i] + k3_theta, omega[i] + k3_omega)\n",
        "      k4_omega = dt * f_omega(y_kutta[i] + k3_theta, omega[i] + k3_omega)\n",
        "\n",
        "      y_kutta[i+1] = y_kutta[i] + (k1_theta + 2*k2_theta + 2*k3_theta + k4_theta) / 6\n",
        "      omega[i+1] = omega[i] + (k1_omega + 2*k2_omega + 2*k3_omega + k4_omega) / 6\n",
        "\n",
        "  history = model.fit(x, y_kutta, epochs=epochs, batch_size=1, callbacks=[early_stop], verbose=0)\n",
        "  final_epoch = len(history.history['loss'])\n",
        "  final_train_error = history.history['loss'][-1]\n",
        "\n",
        "  x_test = np.linspace(0, 2.5, 300)\n",
        "  y_pred = model.predict(x_test)\n",
        "\n",
        "  theta0 = np.pi / 4  # Initial angle (rad)\n",
        "  omega0 = 0.0        # Initial angular velocity (rad/s)\n",
        "  t_0 = 0           # Start time (s)\n",
        "  t_f = 2.5           # End time (s)\n",
        "  dt = (t_f-t_0)/299           # Time step (s)\n",
        "\n",
        "  # Number of steps\n",
        "  n = int((t_f - t_0) / dt)\n",
        "\n",
        "  # Arrays to store results\n",
        "  t = np.linspace(t_0, t_f, n+1)\n",
        "  y_kutta = np.zeros(n+1)\n",
        "  omega = np.zeros(n+1)\n",
        "\n",
        "  # Initial conditions\n",
        "  y_kutta[0] = theta0\n",
        "  omega[0] = omega0\n",
        "\n",
        "  # Define the system of ODEs\n",
        "  def f_theta(y_kutta, omega):\n",
        "      return omega\n",
        "\n",
        "  def f_omega(y_kutta, omega):\n",
        "      return - (g / L) * np.sin(y_kutta)\n",
        "\n",
        "  # Runge-Kutta 4th Order Method\n",
        "  for i in range(n):\n",
        "      k1_theta = dt * f_theta(y_kutta[i], omega[i])\n",
        "      k1_omega = dt * f_omega(y_kutta[i], omega[i])\n",
        "\n",
        "      k2_theta = dt * f_theta(y_kutta[i] + 0.5 * k1_theta, omega[i] + 0.5 * k1_omega)\n",
        "      k2_omega = dt * f_omega(y_kutta[i] + 0.5 * k1_theta, omega[i] + 0.5 * k1_omega)\n",
        "\n",
        "      k3_theta = dt * f_theta(y_kutta[i] + 0.5 * k2_theta, omega[i] + 0.5 * k2_omega)\n",
        "      k3_omega = dt * f_omega(y_kutta[i] + 0.5 * k2_theta, omega[i] + 0.5 * k2_omega)\n",
        "\n",
        "      k4_theta = dt * f_theta(y_kutta[i] + k3_theta, omega[i] + k3_omega)\n",
        "      k4_omega = dt * f_omega(y_kutta[i] + k3_theta, omega[i] + k3_omega)\n",
        "\n",
        "      y_kutta[i+1] = y_kutta[i] + (k1_theta + 2*k2_theta + 2*k3_theta + k4_theta) / 6\n",
        "      omega[i+1] = omega[i] + (k1_omega + 2*k2_omega + 2*k3_omega + k4_omega) / 6\n",
        "\n",
        "  val_error = 0\n",
        "  for i in range(len(y_pred)):\n",
        "\n",
        "    val_error += (y_pred[i] - y_kutta[i])**2\n",
        "\n",
        "  test_error = val_error/len(y_pred)\n",
        "  test_error = test_error[0]\n",
        "\n",
        "  final_epoch_arr[j] = final_epoch\n",
        "  final_train_error_arr[j] = final_train_error\n",
        "  test_error_arr[j] = test_error\n",
        "\n",
        "for j in range(n_montecarlo):\n",
        "\n",
        "  nn_pend(j, epochs, learning_rate, x)\n",
        "\n",
        "final_epoch_mean = final_epoch_arr.mean()\n",
        "final_epoch_var = final_epoch_arr.var()\n",
        "final_train_error_mean = final_train_error_arr.mean()\n",
        "final_train_error_var = final_train_error_arr.var()\n",
        "test_error_mean = test_error_arr.mean()\n",
        "test_error_var = test_error_arr.var()\n",
        "\n",
        "print(f\"\"\"\n",
        "Mean final epoch: {final_epoch_mean}                Final Epoch Variance: {final_epoch_var}\n",
        "Mean final error: {final_train_error_mean}             Final error Variance: {final_train_error_var}\n",
        "Mean testing error: {test_error_mean}         Testing error Variance: {test_error_var}\n",
        "\"\"\")"
      ]
    },
    {
      "cell_type": "markdown",
      "metadata": {
        "id": "gtU3Mk3uRS5x"
      },
      "source": [
        "# Ecuación de Schrödinger Independiente del Tiempo 1D\n",
        "\n"
      ]
    },
    {
      "cell_type": "markdown",
      "metadata": {
        "id": "cJYSkWdPlERd"
      },
      "source": [
        "### Pozo Simple"
      ]
    },
    {
      "cell_type": "code",
      "execution_count": null,
      "metadata": {
        "colab": {
          "base_uri": "https://localhost:8080/"
        },
        "id": "cVuyXUP-Rrw8",
        "outputId": "97775653-d058-4b4f-baa4-9d0593e920d4"
      },
      "outputs": [
        {
          "output_type": "stream",
          "name": "stdout",
          "text": [
            "1.9451063716842611\n"
          ]
        },
        {
          "output_type": "stream",
          "name": "stderr",
          "text": [
            "/tmp/ipython-input-2-991999753.py:26: DeprecationWarning: `trapz` is deprecated. Use `trapezoid` instead, or one of the numerical integration functions in `scipy.integrate`.\n",
            "  psi0 = psi0 / np.sqrt(np.trapz(psi0**2, x[1:-1]))\n"
          ]
        }
      ],
      "source": [
        "from scipy.linalg import eigh_tridiagonal\n",
        "\n",
        "num_domain = 64\n",
        "l = 1\n",
        "minval = -6*l\n",
        "maxval = 6*l\n",
        "v0 = 50\n",
        "\n",
        "x = np.linspace(minval, maxval, num_domain)\n",
        "\n",
        "\n",
        "V_d = np.where(np.abs(x) <= l, 0.0, v0)\n",
        "\n",
        "dx = x[1] - x[0]\n",
        "\n",
        "main_diag = 2.0 / dx**2 + V_d[1:-1]\n",
        "off_diag = -1.0 / dx**2 * np.ones(num_domain - 3)\n",
        "\n",
        "eigenvalues, eigenvectors = eigh_tridiagonal(main_diag, off_diag)\n",
        "\n",
        "E0 = eigenvalues[0]\n",
        "psi0 = eigenvectors[:, 0]\n",
        "\n",
        "print(E0)\n",
        "\n",
        "psi0 = psi0 / np.sqrt(np.trapz(psi0**2, x[1:-1]))\n",
        "\n",
        "psi_full = np.zeros(num_domain)\n",
        "psi_full[1:-1] = psi0\n",
        "\n",
        "y_true = psi_full\n",
        "\n"
      ]
    },
    {
      "cell_type": "code",
      "execution_count": null,
      "metadata": {
        "colab": {
          "base_uri": "https://localhost:8080/",
          "height": 272
        },
        "id": "UBOzHQ4LRIdx",
        "outputId": "1e491902-6d8a-43de-fe33-30a2d8de08ec"
      },
      "outputs": [
        {
          "output_type": "display_data",
          "data": {
            "text/plain": [
              "\u001b[1mModel: \"sequential\"\u001b[0m\n"
            ],
            "text/html": [
              "<pre style=\"white-space:pre;overflow-x:auto;line-height:normal;font-family:Menlo,'DejaVu Sans Mono',consolas,'Courier New',monospace\"><span style=\"font-weight: bold\">Model: \"sequential\"</span>\n",
              "</pre>\n"
            ]
          },
          "metadata": {}
        },
        {
          "output_type": "display_data",
          "data": {
            "text/plain": [
              "┏━━━━━━━━━━━━━━━━━━━━━━━━━━━━━━━━━┳━━━━━━━━━━━━━━━━━━━━━━━━┳━━━━━━━━━━━━━━━┓\n",
              "┃\u001b[1m \u001b[0m\u001b[1mLayer (type)                   \u001b[0m\u001b[1m \u001b[0m┃\u001b[1m \u001b[0m\u001b[1mOutput Shape          \u001b[0m\u001b[1m \u001b[0m┃\u001b[1m \u001b[0m\u001b[1m      Param #\u001b[0m\u001b[1m \u001b[0m┃\n",
              "┡━━━━━━━━━━━━━━━━━━━━━━━━━━━━━━━━━╇━━━━━━━━━━━━━━━━━━━━━━━━╇━━━━━━━━━━━━━━━┩\n",
              "│ dense (\u001b[38;5;33mDense\u001b[0m)                   │ (\u001b[38;5;45mNone\u001b[0m, \u001b[38;5;34m8\u001b[0m)              │            \u001b[38;5;34m16\u001b[0m │\n",
              "├─────────────────────────────────┼────────────────────────┼───────────────┤\n",
              "│ dense_1 (\u001b[38;5;33mDense\u001b[0m)                 │ (\u001b[38;5;45mNone\u001b[0m, \u001b[38;5;34m4\u001b[0m)              │            \u001b[38;5;34m36\u001b[0m │\n",
              "├─────────────────────────────────┼────────────────────────┼───────────────┤\n",
              "│ dense_2 (\u001b[38;5;33mDense\u001b[0m)                 │ (\u001b[38;5;45mNone\u001b[0m, \u001b[38;5;34m7\u001b[0m)              │            \u001b[38;5;34m35\u001b[0m │\n",
              "├─────────────────────────────────┼────────────────────────┼───────────────┤\n",
              "│ dense_3 (\u001b[38;5;33mDense\u001b[0m)                 │ (\u001b[38;5;45mNone\u001b[0m, \u001b[38;5;34m1\u001b[0m)              │             \u001b[38;5;34m8\u001b[0m │\n",
              "└─────────────────────────────────┴────────────────────────┴───────────────┘\n"
            ],
            "text/html": [
              "<pre style=\"white-space:pre;overflow-x:auto;line-height:normal;font-family:Menlo,'DejaVu Sans Mono',consolas,'Courier New',monospace\">┏━━━━━━━━━━━━━━━━━━━━━━━━━━━━━━━━━┳━━━━━━━━━━━━━━━━━━━━━━━━┳━━━━━━━━━━━━━━━┓\n",
              "┃<span style=\"font-weight: bold\"> Layer (type)                    </span>┃<span style=\"font-weight: bold\"> Output Shape           </span>┃<span style=\"font-weight: bold\">       Param # </span>┃\n",
              "┡━━━━━━━━━━━━━━━━━━━━━━━━━━━━━━━━━╇━━━━━━━━━━━━━━━━━━━━━━━━╇━━━━━━━━━━━━━━━┩\n",
              "│ dense (<span style=\"color: #0087ff; text-decoration-color: #0087ff\">Dense</span>)                   │ (<span style=\"color: #00d7ff; text-decoration-color: #00d7ff\">None</span>, <span style=\"color: #00af00; text-decoration-color: #00af00\">8</span>)              │            <span style=\"color: #00af00; text-decoration-color: #00af00\">16</span> │\n",
              "├─────────────────────────────────┼────────────────────────┼───────────────┤\n",
              "│ dense_1 (<span style=\"color: #0087ff; text-decoration-color: #0087ff\">Dense</span>)                 │ (<span style=\"color: #00d7ff; text-decoration-color: #00d7ff\">None</span>, <span style=\"color: #00af00; text-decoration-color: #00af00\">4</span>)              │            <span style=\"color: #00af00; text-decoration-color: #00af00\">36</span> │\n",
              "├─────────────────────────────────┼────────────────────────┼───────────────┤\n",
              "│ dense_2 (<span style=\"color: #0087ff; text-decoration-color: #0087ff\">Dense</span>)                 │ (<span style=\"color: #00d7ff; text-decoration-color: #00d7ff\">None</span>, <span style=\"color: #00af00; text-decoration-color: #00af00\">7</span>)              │            <span style=\"color: #00af00; text-decoration-color: #00af00\">35</span> │\n",
              "├─────────────────────────────────┼────────────────────────┼───────────────┤\n",
              "│ dense_3 (<span style=\"color: #0087ff; text-decoration-color: #0087ff\">Dense</span>)                 │ (<span style=\"color: #00d7ff; text-decoration-color: #00d7ff\">None</span>, <span style=\"color: #00af00; text-decoration-color: #00af00\">1</span>)              │             <span style=\"color: #00af00; text-decoration-color: #00af00\">8</span> │\n",
              "└─────────────────────────────────┴────────────────────────┴───────────────┘\n",
              "</pre>\n"
            ]
          },
          "metadata": {}
        },
        {
          "output_type": "display_data",
          "data": {
            "text/plain": [
              "\u001b[1m Total params: \u001b[0m\u001b[38;5;34m95\u001b[0m (380.00 B)\n"
            ],
            "text/html": [
              "<pre style=\"white-space:pre;overflow-x:auto;line-height:normal;font-family:Menlo,'DejaVu Sans Mono',consolas,'Courier New',monospace\"><span style=\"font-weight: bold\"> Total params: </span><span style=\"color: #00af00; text-decoration-color: #00af00\">95</span> (380.00 B)\n",
              "</pre>\n"
            ]
          },
          "metadata": {}
        },
        {
          "output_type": "display_data",
          "data": {
            "text/plain": [
              "\u001b[1m Trainable params: \u001b[0m\u001b[38;5;34m95\u001b[0m (380.00 B)\n"
            ],
            "text/html": [
              "<pre style=\"white-space:pre;overflow-x:auto;line-height:normal;font-family:Menlo,'DejaVu Sans Mono',consolas,'Courier New',monospace\"><span style=\"font-weight: bold\"> Trainable params: </span><span style=\"color: #00af00; text-decoration-color: #00af00\">95</span> (380.00 B)\n",
              "</pre>\n"
            ]
          },
          "metadata": {}
        },
        {
          "output_type": "display_data",
          "data": {
            "text/plain": [
              "\u001b[1m Non-trainable params: \u001b[0m\u001b[38;5;34m0\u001b[0m (0.00 B)\n"
            ],
            "text/html": [
              "<pre style=\"white-space:pre;overflow-x:auto;line-height:normal;font-family:Menlo,'DejaVu Sans Mono',consolas,'Courier New',monospace\"><span style=\"font-weight: bold\"> Non-trainable params: </span><span style=\"color: #00af00; text-decoration-color: #00af00\">0</span> (0.00 B)\n",
              "</pre>\n"
            ]
          },
          "metadata": {}
        }
      ],
      "source": [
        "n_inputs = 1\n",
        "n_outputs = 1\n",
        "activation = 'tanh'\n",
        "\n",
        "model = tf.keras.models.Sequential()\n",
        "model.add(tf.keras.layers.Input((n_inputs,)))\n",
        "model.add(tf.keras.layers.Dense(units=8, activation=activation))\n",
        "model.add(tf.keras.layers.Dense(units=4, activation=activation))\n",
        "model.add(tf.keras.layers.Dense(units=7, activation=activation))\n",
        "model.add(tf.keras.layers.Dense(units=n_outputs))\n",
        "\n",
        "model.summary()\n",
        "\n",
        "early_stop = EarlyStopping(\n",
        "    monitor='loss',\n",
        "    patience=15,\n",
        "    restore_best_weights=True\n",
        ")"
      ]
    },
    {
      "cell_type": "code",
      "execution_count": null,
      "metadata": {
        "collapsed": true,
        "id": "3b8ESiB_tier"
      },
      "outputs": [],
      "source": [
        "#model.get_weights()[0][0][0], model.get_weights()[1][0]\n"
      ]
    },
    {
      "cell_type": "code",
      "execution_count": null,
      "metadata": {
        "colab": {
          "base_uri": "https://localhost:8080/"
        },
        "id": "CunLNy1pUPj9",
        "outputId": "b72f5d3d-d4d4-4436-e368-f480950e0ed6"
      },
      "outputs": [
        {
          "output_type": "stream",
          "name": "stdout",
          "text": [
            "64 64\n",
            "2000 0.00012781050463672727\n"
          ]
        }
      ],
      "source": [
        "epochs = 2000\n",
        "learning_rate = 0.02\n",
        "\n",
        "model.compile(optimizer=\"adam\", loss=\"mse\", metrics=[\"mse\"])\n",
        "\n",
        "print(len(x), len(y_true))\n",
        "\n",
        "history = model.fit(x, y_true, epochs=epochs, batch_size=1, callbacks=[early_stop], verbose=0)\n",
        "final_epoch = len(history.history['loss'])\n",
        "final_train_error = history.history['loss'][-1]\n",
        "print(final_epoch, final_train_error)"
      ]
    },
    {
      "cell_type": "code",
      "execution_count": null,
      "metadata": {
        "colab": {
          "base_uri": "https://localhost:8080/",
          "height": 561
        },
        "id": "4eIrgPl0xjfo",
        "outputId": "1dd3681c-49f7-4855-8f61-98345a4f2c02"
      },
      "outputs": [
        {
          "output_type": "stream",
          "name": "stdout",
          "text": [
            "\u001b[1m19/19\u001b[0m \u001b[32m━━━━━━━━━━━━━━━━━━━━\u001b[0m\u001b[37m\u001b[0m \u001b[1m0s\u001b[0m 4ms/step\n"
          ]
        },
        {
          "output_type": "stream",
          "name": "stderr",
          "text": [
            "/tmp/ipython-input-7-866709244.py:16: DeprecationWarning: `trapz` is deprecated. Use `trapezoid` instead, or one of the numerical integration functions in `scipy.integrate`.\n",
            "  psi0 = psi0 / np.sqrt(np.trapz(psi0**2, x_test[1:-1]))\n"
          ]
        },
        {
          "output_type": "display_data",
          "data": {
            "text/plain": [
              "<Figure size 640x480 with 1 Axes>"
            ],
            "image/png": "[encoded data removed]"
          },
          "metadata": {}
        },
        {
          "output_type": "execute_result",
          "data": {
            "text/plain": [
              "np.float64(0.00016063281471660377)"
            ]
          },
          "metadata": {},
          "execution_count": 7
        }
      ],
      "source": [
        "x_test = np.linspace(minval, maxval, 601)\n",
        "y_pred = model.predict(x_test)\n",
        "\n",
        "V_d = np.where(np.abs(x_test) <= l, 0.0, v0)\n",
        "\n",
        "dx = x_test[1] - x_test[0]\n",
        "\n",
        "main_diag = 2.0 / dx**2 + V_d[1:-1]\n",
        "off_diag = -1.0 / dx**2 * np.ones(601 - 3)\n",
        "\n",
        "eigenvalues, eigenvectors = eigh_tridiagonal(main_diag, off_diag)\n",
        "\n",
        "E0 = eigenvalues[0]\n",
        "psi0 = eigenvectors[:, 0]\n",
        "\n",
        "psi0 = psi0 / np.sqrt(np.trapz(psi0**2, x_test[1:-1]))\n",
        "\n",
        "psi_full = np.zeros(601)\n",
        "psi_full[1:-1] = psi0\n",
        "\n",
        "y_true = psi_full\n",
        "\n",
        "plt.plot(x_test, y_pred)\n",
        "\n",
        "plt.plot(x_test, y_true)\n",
        "plt.title('NN Evaluation of the Potential Well')\n",
        "plt.legend(['NN Prediction', 'Tridiagonal Evaluation'])\n",
        "plt.xlabel(\"x (au)\")\n",
        "plt.ylabel(\"Ψ (au)\")\n",
        "plt.vlines([-l, l], -0.1, 1, \"r\")\n",
        "plt.show()\n",
        "\n",
        "val_error = 0\n",
        "\n",
        "for i in range(len(y_pred)):\n",
        "\n",
        "  val_error += (y_pred[i] - y_true[i])**2\n",
        "\n",
        "test_error = val_error/len(y_pred)\n",
        "test_error = test_error[0]\n",
        "\n",
        "test_error"
      ]
    },
    {
      "cell_type": "code",
      "execution_count": null,
      "metadata": {
        "colab": {
          "base_uri": "https://localhost:8080/",
          "height": 561
        },
        "id": "wUTa6LebTSYX",
        "outputId": "c236773b-ee42-47cd-9744-1197d02ddd7b"
      },
      "outputs": [
        {
          "output_type": "stream",
          "name": "stdout",
          "text": [
            "\u001b[1m19/19\u001b[0m \u001b[32m━━━━━━━━━━━━━━━━━━━━\u001b[0m\u001b[37m\u001b[0m \u001b[1m0s\u001b[0m 2ms/step \n"
          ]
        },
        {
          "output_type": "stream",
          "name": "stderr",
          "text": [
            "/tmp/ipython-input-8-1538247240.py:16: DeprecationWarning: `trapz` is deprecated. Use `trapezoid` instead, or one of the numerical integration functions in `scipy.integrate`.\n",
            "  psi0 = psi0 / np.sqrt(np.trapz(psi0**2, x_test[1:-1]))\n"
          ]
        },
        {
          "output_type": "display_data",
          "data": {
            "text/plain": [
              "<Figure size 640x480 with 1 Axes>"
            ],
            "image/png": "[encoded data removed]"
          },
          "metadata": {}
        },
        {
          "output_type": "execute_result",
          "data": {
            "text/plain": [
              "np.float64(0.0005043105130560427)"
            ]
          },
          "metadata": {},
          "execution_count": 8
        }
      ],
      "source": [
        "x_test = np.linspace(-1.4, 1.4, 601)\n",
        "y_pred = model.predict(x_test)\n",
        "\n",
        "V_d = np.where(np.abs(x_test) <= l, 0.0, v0)\n",
        "\n",
        "dx = x_test[1] - x_test[0]\n",
        "\n",
        "main_diag = 2.0 / dx**2 + V_d[1:-1]\n",
        "off_diag = -1.0 / dx**2 * np.ones(601 - 3)\n",
        "\n",
        "eigenvalues, eigenvectors = eigh_tridiagonal(main_diag, off_diag)\n",
        "\n",
        "E0 = eigenvalues[0]\n",
        "psi0 = eigenvectors[:, 0]\n",
        "\n",
        "psi0 = psi0 / np.sqrt(np.trapz(psi0**2, x_test[1:-1]))\n",
        "\n",
        "psi_full = np.zeros(601)\n",
        "psi_full[1:-1] = psi0\n",
        "\n",
        "y_true = psi_full\n",
        "\n",
        "\n",
        "\n",
        "plt.plot(x_test, y_pred)\n",
        "plt.plot(x_test, y_true)\n",
        "\n",
        "plt.title('NN Evaluation centered on the Potential Well')\n",
        "plt.legend(['NN Prediction', 'Tridiagonal Evaluation'])\n",
        "plt.xlabel(\"x (au)\")\n",
        "plt.ylabel(\"Ψ (au)\")\n",
        "plt.vlines([-l, l], -0.1, 1, \"r\")\n",
        "plt.show()\n",
        "\n",
        "val_error = 0\n",
        "\n",
        "for i in range(len(y_pred)):\n",
        "\n",
        "  val_error += (y_pred[i] - y_true[i])**2\n",
        "\n",
        "test_error = val_error/len(y_pred)\n",
        "test_error = test_error[0]\n",
        "\n",
        "test_error"
      ]
    },
    {
      "cell_type": "code",
      "execution_count": null,
      "metadata": {
        "colab": {
          "base_uri": "https://localhost:8080/",
          "height": 1000
        },
        "id": "YoDttmNLv1jr",
        "outputId": "097587aa-8996-4673-eb86-63495c4c914c"
      },
      "outputs": [
        {
          "data": {
            "text/html": [
              "<pre style=\"white-space:pre;overflow-x:auto;line-height:normal;font-family:Menlo,'DejaVu Sans Mono',consolas,'Courier New',monospace\"><span style=\"font-weight: bold\">Model: \"sequential\"</span>\n",
              "</pre>\n"
            ],
            "text/plain": [
              "\u001b[1mModel: \"sequential\"\u001b[0m\n"
            ]
          },
          "metadata": {},
          "output_type": "display_data"
        },
        {
          "data": {
            "text/html": [
              "<pre style=\"white-space:pre;overflow-x:auto;line-height:normal;font-family:Menlo,'DejaVu Sans Mono',consolas,'Courier New',monospace\">┏━━━━━━━━━━━━━━━━━━━━━━━━━━━━━━━━━┳━━━━━━━━━━━━━━━━━━━━━━━━┳━━━━━━━━━━━━━━━┓\n",
              "┃<span style=\"font-weight: bold\"> Layer (type)                    </span>┃<span style=\"font-weight: bold\"> Output Shape           </span>┃<span style=\"font-weight: bold\">       Param # </span>┃\n",
              "┡━━━━━━━━━━━━━━━━━━━━━━━━━━━━━━━━━╇━━━━━━━━━━━━━━━━━━━━━━━━╇━━━━━━━━━━━━━━━┩\n",
              "│ dense (<span style=\"color: #0087ff; text-decoration-color: #0087ff\">Dense</span>)                   │ (<span style=\"color: #00d7ff; text-decoration-color: #00d7ff\">None</span>, <span style=\"color: #00af00; text-decoration-color: #00af00\">8</span>)              │            <span style=\"color: #00af00; text-decoration-color: #00af00\">16</span> │\n",
              "├─────────────────────────────────┼────────────────────────┼───────────────┤\n",
              "│ dense_1 (<span style=\"color: #0087ff; text-decoration-color: #0087ff\">Dense</span>)                 │ (<span style=\"color: #00d7ff; text-decoration-color: #00d7ff\">None</span>, <span style=\"color: #00af00; text-decoration-color: #00af00\">3</span>)              │            <span style=\"color: #00af00; text-decoration-color: #00af00\">27</span> │\n",
              "├─────────────────────────────────┼────────────────────────┼───────────────┤\n",
              "│ dense_2 (<span style=\"color: #0087ff; text-decoration-color: #0087ff\">Dense</span>)                 │ (<span style=\"color: #00d7ff; text-decoration-color: #00d7ff\">None</span>, <span style=\"color: #00af00; text-decoration-color: #00af00\">6</span>)              │            <span style=\"color: #00af00; text-decoration-color: #00af00\">24</span> │\n",
              "├─────────────────────────────────┼────────────────────────┼───────────────┤\n",
              "│ dense_3 (<span style=\"color: #0087ff; text-decoration-color: #0087ff\">Dense</span>)                 │ (<span style=\"color: #00d7ff; text-decoration-color: #00d7ff\">None</span>, <span style=\"color: #00af00; text-decoration-color: #00af00\">1</span>)              │             <span style=\"color: #00af00; text-decoration-color: #00af00\">7</span> │\n",
              "└─────────────────────────────────┴────────────────────────┴───────────────┘\n",
              "</pre>\n"
            ],
            "text/plain": [
              "┏━━━━━━━━━━━━━━━━━━━━━━━━━━━━━━━━━┳━━━━━━━━━━━━━━━━━━━━━━━━┳━━━━━━━━━━━━━━━┓\n",
              "┃\u001b[1m \u001b[0m\u001b[1mLayer (type)                   \u001b[0m\u001b[1m \u001b[0m┃\u001b[1m \u001b[0m\u001b[1mOutput Shape          \u001b[0m\u001b[1m \u001b[0m┃\u001b[1m \u001b[0m\u001b[1m      Param #\u001b[0m\u001b[1m \u001b[0m┃\n",
              "┡━━━━━━━━━━━━━━━━━━━━━━━━━━━━━━━━━╇━━━━━━━━━━━━━━━━━━━━━━━━╇━━━━━━━━━━━━━━━┩\n",
              "│ dense (\u001b[38;5;33mDense\u001b[0m)                   │ (\u001b[38;5;45mNone\u001b[0m, \u001b[38;5;34m8\u001b[0m)              │            \u001b[38;5;34m16\u001b[0m │\n",
              "├─────────────────────────────────┼────────────────────────┼───────────────┤\n",
              "│ dense_1 (\u001b[38;5;33mDense\u001b[0m)                 │ (\u001b[38;5;45mNone\u001b[0m, \u001b[38;5;34m3\u001b[0m)              │            \u001b[38;5;34m27\u001b[0m │\n",
              "├─────────────────────────────────┼────────────────────────┼───────────────┤\n",
              "│ dense_2 (\u001b[38;5;33mDense\u001b[0m)                 │ (\u001b[38;5;45mNone\u001b[0m, \u001b[38;5;34m6\u001b[0m)              │            \u001b[38;5;34m24\u001b[0m │\n",
              "├─────────────────────────────────┼────────────────────────┼───────────────┤\n",
              "│ dense_3 (\u001b[38;5;33mDense\u001b[0m)                 │ (\u001b[38;5;45mNone\u001b[0m, \u001b[38;5;34m1\u001b[0m)              │             \u001b[38;5;34m7\u001b[0m │\n",
              "└─────────────────────────────────┴────────────────────────┴───────────────┘\n"
            ]
          },
          "metadata": {},
          "output_type": "display_data"
        },
        {
          "data": {
            "text/html": [
              "<pre style=\"white-space:pre;overflow-x:auto;line-height:normal;font-family:Menlo,'DejaVu Sans Mono',consolas,'Courier New',monospace\"><span style=\"font-weight: bold\"> Total params: </span><span style=\"color: #00af00; text-decoration-color: #00af00\">74</span> (296.00 B)\n",
              "</pre>\n"
            ],
            "text/plain": [
              "\u001b[1m Total params: \u001b[0m\u001b[38;5;34m74\u001b[0m (296.00 B)\n"
            ]
          },
          "metadata": {},
          "output_type": "display_data"
        },
        {
          "data": {
            "text/html": [
              "<pre style=\"white-space:pre;overflow-x:auto;line-height:normal;font-family:Menlo,'DejaVu Sans Mono',consolas,'Courier New',monospace\"><span style=\"font-weight: bold\"> Trainable params: </span><span style=\"color: #00af00; text-decoration-color: #00af00\">74</span> (296.00 B)\n",
              "</pre>\n"
            ],
            "text/plain": [
              "\u001b[1m Trainable params: \u001b[0m\u001b[38;5;34m74\u001b[0m (296.00 B)\n"
            ]
          },
          "metadata": {},
          "output_type": "display_data"
        },
        {
          "data": {
            "text/html": [
              "<pre style=\"white-space:pre;overflow-x:auto;line-height:normal;font-family:Menlo,'DejaVu Sans Mono',consolas,'Courier New',monospace\"><span style=\"font-weight: bold\"> Non-trainable params: </span><span style=\"color: #00af00; text-decoration-color: #00af00\">0</span> (0.00 B)\n",
              "</pre>\n"
            ],
            "text/plain": [
              "\u001b[1m Non-trainable params: \u001b[0m\u001b[38;5;34m0\u001b[0m (0.00 B)\n"
            ]
          },
          "metadata": {},
          "output_type": "display_data"
        },
        {
          "metadata": {
            "tags": null
          },
          "name": "stdout",
          "output_type": "stream",
          "text": [
            "1.9451063716842611\n",
            "\u001b[1m19/19\u001b[0m \u001b[32m━━━━━━━━━━━━━━━━━━━━\u001b[0m\u001b[37m\u001b[0m \u001b[1m0s\u001b[0m 7ms/step\n",
            "Montecarlo: 1\t Final Epoch = 1564\t Final MSE Loss = 7.42836928111501e-05\n",
            "Test MSE Loss = 0.0001311108387745055\n"
          ]
        },
        {
          "data": {
            "image/png": "[encoded data removed]",
            "text/plain": [
              "<Figure size 640x480 with 1 Axes>"
            ]
          },
          "metadata": {},
          "output_type": "display_data"
        },
        {
          "output_type": "stream",
          "name": "stdout",
          "text": [
            "1.9451063716842611\n",
            "\u001b[1m19/19\u001b[0m \u001b[32m━━━━━━━━━━━━━━━━━━━━\u001b[0m\u001b[37m\u001b[0m \u001b[1m0s\u001b[0m 7ms/step\n",
            "Montecarlo: 2\t Final Epoch = 2000\t Final MSE Loss = 0.00013409339589998126\n",
            "Test MSE Loss = 0.00014752910114820445\n",
            "1.9451063716842611\n",
            "\u001b[1m19/19\u001b[0m \u001b[32m━━━━━━━━━━━━━━━━━━━━\u001b[0m\u001b[37m\u001b[0m \u001b[1m0s\u001b[0m 5ms/step\n",
            "Montecarlo: 3\t Final Epoch = 696\t Final MSE Loss = 5.937018431723118e-05\n",
            "Test MSE Loss = 0.00012967945178018366\n",
            "1.9451063716842611\n",
            "\u001b[1m19/19\u001b[0m \u001b[32m━━━━━━━━━━━━━━━━━━━━\u001b[0m\u001b[37m\u001b[0m \u001b[1m0s\u001b[0m 5ms/step\n",
            "Montecarlo: 4\t Final Epoch = 1939\t Final MSE Loss = 0.00010074534657178447\n",
            "Test MSE Loss = 0.00016854766020497187\n",
            "1.9451063716842611\n",
            "\u001b[1m19/19\u001b[0m \u001b[32m━━━━━━━━━━━━━━━━━━━━\u001b[0m\u001b[37m\u001b[0m \u001b[1m0s\u001b[0m 6ms/step\n",
            "Montecarlo: 5\t Final Epoch = 1636\t Final MSE Loss = 6.998733442742378e-05\n",
            "Test MSE Loss = 0.0001444300249141344\n",
            "1.9451063716842611\n",
            "\u001b[1m19/19\u001b[0m \u001b[32m━━━━━━━━━━━━━━━━━━━━\u001b[0m\u001b[37m\u001b[0m \u001b[1m0s\u001b[0m 5ms/step\n",
            "Montecarlo: 6\t Final Epoch = 490\t Final MSE Loss = 0.00018383834685664624\n",
            "Test MSE Loss = 0.00023025638909869063\n",
            "1.9451063716842611\n",
            "\u001b[1m19/19\u001b[0m \u001b[32m━━━━━━━━━━━━━━━━━━━━\u001b[0m\u001b[37m\u001b[0m \u001b[1m0s\u001b[0m 5ms/step\n",
            "Montecarlo: 7\t Final Epoch = 2000\t Final MSE Loss = 5.968661935185082e-05\n",
            "Test MSE Loss = 0.00012762132220089952\n",
            "1.9451063716842611\n",
            "\u001b[1m19/19\u001b[0m \u001b[32m━━━━━━━━━━━━━━━━━━━━\u001b[0m\u001b[37m\u001b[0m \u001b[1m0s\u001b[0m 5ms/step\n",
            "Montecarlo: 8\t Final Epoch = 956\t Final MSE Loss = 8.651945245219395e-05\n",
            "Test MSE Loss = 0.00012866112844488398\n",
            "1.9451063716842611\n",
            "\u001b[1m19/19\u001b[0m \u001b[32m━━━━━━━━━━━━━━━━━━━━\u001b[0m\u001b[37m\u001b[0m \u001b[1m0s\u001b[0m 5ms/step\n",
            "Montecarlo: 9\t Final Epoch = 489\t Final MSE Loss = 9.172695718007162e-05\n",
            "Test MSE Loss = 0.00014994414551896678\n",
            "1.9451063716842611\n",
            "\u001b[1m19/19\u001b[0m \u001b[32m━━━━━━━━━━━━━━━━━━━━\u001b[0m\u001b[37m\u001b[0m \u001b[1m0s\u001b[0m 5ms/step\n",
            "Montecarlo: 10\t Final Epoch = 1484\t Final MSE Loss = 0.0001193518255604431\n",
            "Test MSE Loss = 0.00023234255962355848\n",
            "1.9451063716842611\n",
            "\u001b[1m19/19\u001b[0m \u001b[32m━━━━━━━━━━━━━━━━━━━━\u001b[0m\u001b[37m\u001b[0m \u001b[1m0s\u001b[0m 5ms/step\n",
            "Montecarlo: 11\t Final Epoch = 1928\t Final MSE Loss = 0.00010525578545639291\n",
            "Test MSE Loss = 0.00013819970750607812\n",
            "1.9451063716842611\n",
            "\u001b[1m19/19\u001b[0m \u001b[32m━━━━━━━━━━━━━━━━━━━━\u001b[0m\u001b[37m\u001b[0m \u001b[1m0s\u001b[0m 6ms/step\n",
            "Montecarlo: 12\t Final Epoch = 2000\t Final MSE Loss = 0.00011889330926351249\n",
            "Test MSE Loss = 0.0001705414488466755\n",
            "1.9451063716842611\n",
            "\u001b[1m19/19\u001b[0m \u001b[32m━━━━━━━━━━━━━━━━━━━━\u001b[0m\u001b[37m\u001b[0m \u001b[1m0s\u001b[0m 7ms/step\n",
            "Montecarlo: 13\t Final Epoch = 1093\t Final MSE Loss = 7.035340968286619e-05\n",
            "Test MSE Loss = 0.00011966230921599476\n",
            "1.9451063716842611\n",
            "\u001b[1m19/19\u001b[0m \u001b[32m━━━━━━━━━━━━━━━━━━━━\u001b[0m\u001b[37m\u001b[0m \u001b[1m0s\u001b[0m 5ms/step\n",
            "Montecarlo: 14\t Final Epoch = 1226\t Final MSE Loss = 8.227930084103718e-05\n",
            "Test MSE Loss = 0.0001551222230499898\n",
            "1.9451063716842611\n",
            "\u001b[1m19/19\u001b[0m \u001b[32m━━━━━━━━━━━━━━━━━━━━\u001b[0m\u001b[37m\u001b[0m \u001b[1m0s\u001b[0m 6ms/step\n",
            "Montecarlo: 15\t Final Epoch = 1736\t Final MSE Loss = 4.258885019226e-05\n",
            "Test MSE Loss = 0.00017080445781010204\n",
            "1.9451063716842611\n",
            "\u001b[1m19/19\u001b[0m \u001b[32m━━━━━━━━━━━━━━━━━━━━\u001b[0m\u001b[37m\u001b[0m \u001b[1m0s\u001b[0m 5ms/step\n",
            "Montecarlo: 16\t Final Epoch = 2000\t Final MSE Loss = 0.00017844740068539977\n",
            "Test MSE Loss = 0.0002153447553051437\n",
            "1.9451063716842611\n",
            "\u001b[1m19/19\u001b[0m \u001b[32m━━━━━━━━━━━━━━━━━━━━\u001b[0m\u001b[37m\u001b[0m \u001b[1m0s\u001b[0m 5ms/step\n",
            "Montecarlo: 17\t Final Epoch = 208\t Final MSE Loss = 0.0002617421268951148\n",
            "Test MSE Loss = 0.00023005971393747705\n",
            "1.9451063716842611\n",
            "\u001b[1m19/19\u001b[0m \u001b[32m━━━━━━━━━━━━━━━━━━━━\u001b[0m\u001b[37m\u001b[0m \u001b[1m0s\u001b[0m 5ms/step\n",
            "Montecarlo: 18\t Final Epoch = 826\t Final MSE Loss = 7.449067197740078e-05\n",
            "Test MSE Loss = 0.00014594365120001993\n",
            "1.9451063716842611\n",
            "\u001b[1m19/19\u001b[0m \u001b[32m━━━━━━━━━━━━━━━━━━━━\u001b[0m\u001b[37m\u001b[0m \u001b[1m0s\u001b[0m 6ms/step\n",
            "Montecarlo: 19\t Final Epoch = 1738\t Final MSE Loss = 8.375851029995829e-05\n",
            "Test MSE Loss = 0.00013541381385887458\n",
            "1.9451063716842611\n",
            "\u001b[1m19/19\u001b[0m \u001b[32m━━━━━━━━━━━━━━━━━━━━\u001b[0m\u001b[37m\u001b[0m \u001b[1m0s\u001b[0m 5ms/step\n",
            "Montecarlo: 20\t Final Epoch = 1836\t Final MSE Loss = 0.00013069358828943223\n",
            "Test MSE Loss = 0.0001404952088252037\n",
            "1.9451063716842611\n",
            "\u001b[1m19/19\u001b[0m \u001b[32m━━━━━━━━━━━━━━━━━━━━\u001b[0m\u001b[37m\u001b[0m \u001b[1m0s\u001b[0m 5ms/step\n",
            "Montecarlo: 21\t Final Epoch = 1333\t Final MSE Loss = 8.679273742018268e-05\n",
            "Test MSE Loss = 0.00021480616532486957\n",
            "1.9451063716842611\n",
            "\u001b[1m19/19\u001b[0m \u001b[32m━━━━━━━━━━━━━━━━━━━━\u001b[0m\u001b[37m\u001b[0m \u001b[1m0s\u001b[0m 5ms/step\n",
            "Montecarlo: 22\t Final Epoch = 1677\t Final MSE Loss = 0.00011132733197882771\n",
            "Test MSE Loss = 0.00019920131500967287\n",
            "1.9451063716842611\n",
            "\u001b[1m19/19\u001b[0m \u001b[32m━━━━━━━━━━━━━━━━━━━━\u001b[0m\u001b[37m\u001b[0m \u001b[1m0s\u001b[0m 6ms/step\n",
            "Montecarlo: 23\t Final Epoch = 794\t Final MSE Loss = 9.1930189228151e-05\n",
            "Test MSE Loss = 0.0001578527526681267\n",
            "1.9451063716842611\n",
            "\u001b[1m19/19\u001b[0m \u001b[32m━━━━━━━━━━━━━━━━━━━━\u001b[0m\u001b[37m\u001b[0m \u001b[1m0s\u001b[0m 5ms/step\n",
            "Montecarlo: 24\t Final Epoch = 219\t Final MSE Loss = 0.0002426828141324222\n",
            "Test MSE Loss = 0.00022805112288921015\n",
            "1.9451063716842611\n",
            "\u001b[1m19/19\u001b[0m \u001b[32m━━━━━━━━━━━━━━━━━━━━\u001b[0m\u001b[37m\u001b[0m \u001b[1m0s\u001b[0m 7ms/step\n",
            "Montecarlo: 25\t Final Epoch = 2000\t Final MSE Loss = 0.00019402588077355176\n",
            "Test MSE Loss = 0.00023938072489292927\n",
            "1.9451063716842611\n",
            "\u001b[1m19/19\u001b[0m \u001b[32m━━━━━━━━━━━━━━━━━━━━\u001b[0m\u001b[37m\u001b[0m \u001b[1m0s\u001b[0m 5ms/step\n",
            "Montecarlo: 26\t Final Epoch = 2000\t Final MSE Loss = 0.00018127428484149277\n",
            "Test MSE Loss = 0.00019752010376131504\n",
            "1.9451063716842611\n",
            "\u001b[1m19/19\u001b[0m \u001b[32m━━━━━━━━━━━━━━━━━━━━\u001b[0m\u001b[37m\u001b[0m \u001b[1m0s\u001b[0m 5ms/step\n",
            "Montecarlo: 27\t Final Epoch = 777\t Final MSE Loss = 0.00012195530871395022\n",
            "Test MSE Loss = 0.00014592118136241407\n",
            "1.9451063716842611\n",
            "\u001b[1m19/19\u001b[0m \u001b[32m━━━━━━━━━━━━━━━━━━━━\u001b[0m\u001b[37m\u001b[0m \u001b[1m0s\u001b[0m 5ms/step\n",
            "Montecarlo: 28\t Final Epoch = 1621\t Final MSE Loss = 7.723363523837179e-05\n",
            "Test MSE Loss = 0.00017180330088475024\n",
            "1.9451063716842611\n",
            "\u001b[1m19/19\u001b[0m \u001b[32m━━━━━━━━━━━━━━━━━━━━\u001b[0m\u001b[37m\u001b[0m \u001b[1m0s\u001b[0m 5ms/step\n",
            "Montecarlo: 29\t Final Epoch = 841\t Final MSE Loss = 9.238722122972831e-05\n",
            "Test MSE Loss = 0.00015152874463818296\n",
            "1.9451063716842611\n",
            "\u001b[1m19/19\u001b[0m \u001b[32m━━━━━━━━━━━━━━━━━━━━\u001b[0m\u001b[37m\u001b[0m \u001b[1m0s\u001b[0m 5ms/step\n",
            "Montecarlo: 30\t Final Epoch = 2000\t Final MSE Loss = 0.0001500385842518881\n",
            "Test MSE Loss = 0.00018702360593440048\n",
            "1.9451063716842611\n",
            "\u001b[1m19/19\u001b[0m \u001b[32m━━━━━━━━━━━━━━━━━━━━\u001b[0m\u001b[37m\u001b[0m \u001b[1m0s\u001b[0m 5ms/step\n",
            "Montecarlo: 31\t Final Epoch = 132\t Final MSE Loss = 0.0002076389209832996\n",
            "Test MSE Loss = 0.00023424793433502792\n",
            "1.9451063716842611\n",
            "\u001b[1m19/19\u001b[0m \u001b[32m━━━━━━━━━━━━━━━━━━━━\u001b[0m\u001b[37m\u001b[0m \u001b[1m0s\u001b[0m 5ms/step\n",
            "Montecarlo: 32\t Final Epoch = 253\t Final MSE Loss = 0.000272618664894253\n",
            "Test MSE Loss = 0.00025492032714194256\n",
            "1.9451063716842611\n",
            "\u001b[1m19/19\u001b[0m \u001b[32m━━━━━━━━━━━━━━━━━━━━\u001b[0m\u001b[37m\u001b[0m \u001b[1m0s\u001b[0m 5ms/step\n",
            "Montecarlo: 33\t Final Epoch = 2000\t Final MSE Loss = 8.972453360911459e-05\n",
            "Test MSE Loss = 0.0001625082026914696\n",
            "1.9451063716842611\n",
            "\u001b[1m19/19\u001b[0m \u001b[32m━━━━━━━━━━━━━━━━━━━━\u001b[0m\u001b[37m\u001b[0m \u001b[1m0s\u001b[0m 5ms/step\n",
            "Montecarlo: 34\t Final Epoch = 2000\t Final MSE Loss = 0.00013192047481425107\n",
            "Test MSE Loss = 0.00015520725212084233\n",
            "1.9451063716842611\n",
            "\u001b[1m19/19\u001b[0m \u001b[32m━━━━━━━━━━━━━━━━━━━━\u001b[0m\u001b[37m\u001b[0m \u001b[1m0s\u001b[0m 6ms/step\n",
            "Montecarlo: 35\t Final Epoch = 1894\t Final MSE Loss = 8.179522410500795e-05\n",
            "Test MSE Loss = 0.00012005220569713144\n",
            "1.9451063716842611\n",
            "\u001b[1m19/19\u001b[0m \u001b[32m━━━━━━━━━━━━━━━━━━━━\u001b[0m\u001b[37m\u001b[0m \u001b[1m0s\u001b[0m 7ms/step\n",
            "Montecarlo: 36\t Final Epoch = 2000\t Final MSE Loss = 0.00014620496949646622\n",
            "Test MSE Loss = 0.00018888193407934505\n",
            "1.9451063716842611\n",
            "\u001b[1m19/19\u001b[0m \u001b[32m━━━━━━━━━━━━━━━━━━━━\u001b[0m\u001b[37m\u001b[0m \u001b[1m0s\u001b[0m 5ms/step\n",
            "Montecarlo: 37\t Final Epoch = 2000\t Final MSE Loss = 0.00014513570931740105\n",
            "Test MSE Loss = 0.0001573456838774379\n",
            "1.9451063716842611\n",
            "\u001b[1m19/19\u001b[0m \u001b[32m━━━━━━━━━━━━━━━━━━━━\u001b[0m\u001b[37m\u001b[0m \u001b[1m0s\u001b[0m 7ms/step\n",
            "Montecarlo: 38\t Final Epoch = 1730\t Final MSE Loss = 6.931203824933618e-05\n",
            "Test MSE Loss = 0.00015707552176905674\n",
            "1.9451063716842611\n",
            "\u001b[1m19/19\u001b[0m \u001b[32m━━━━━━━━━━━━━━━━━━━━\u001b[0m\u001b[37m\u001b[0m \u001b[1m0s\u001b[0m 5ms/step\n",
            "Montecarlo: 39\t Final Epoch = 2000\t Final MSE Loss = 0.00015140819596126676\n",
            "Test MSE Loss = 0.00016988001653951075\n",
            "1.9451063716842611\n",
            "\u001b[1m19/19\u001b[0m \u001b[32m━━━━━━━━━━━━━━━━━━━━\u001b[0m\u001b[37m\u001b[0m \u001b[1m0s\u001b[0m 8ms/step\n",
            "Montecarlo: 40\t Final Epoch = 1618\t Final MSE Loss = 8.833863830659539e-05\n",
            "Test MSE Loss = 0.0001422677277323849\n",
            "1.9451063716842611\n",
            "\u001b[1m19/19\u001b[0m \u001b[32m━━━━━━━━━━━━━━━━━━━━\u001b[0m\u001b[37m\u001b[0m \u001b[1m0s\u001b[0m 5ms/step\n",
            "Montecarlo: 41\t Final Epoch = 2000\t Final MSE Loss = 0.00017240855959244072\n",
            "Test MSE Loss = 0.000181813177269793\n",
            "1.9451063716842611\n",
            "\u001b[1m19/19\u001b[0m \u001b[32m━━━━━━━━━━━━━━━━━━━━\u001b[0m\u001b[37m\u001b[0m \u001b[1m0s\u001b[0m 7ms/step\n",
            "Montecarlo: 42\t Final Epoch = 1307\t Final MSE Loss = 0.00014839340292382985\n",
            "Test MSE Loss = 0.00015691868271142958\n",
            "1.9451063716842611\n",
            "\u001b[1m19/19\u001b[0m \u001b[32m━━━━━━━━━━━━━━━━━━━━\u001b[0m\u001b[37m\u001b[0m \u001b[1m0s\u001b[0m 5ms/step\n",
            "Montecarlo: 43\t Final Epoch = 874\t Final MSE Loss = 8.641895692562684e-05\n",
            "Test MSE Loss = 0.00014892433440377001\n",
            "1.9451063716842611\n",
            "\u001b[1m19/19\u001b[0m \u001b[32m━━━━━━━━━━━━━━━━━━━━\u001b[0m\u001b[37m\u001b[0m \u001b[1m0s\u001b[0m 8ms/step\n",
            "Montecarlo: 44\t Final Epoch = 1368\t Final MSE Loss = 9.084941120818257e-05\n",
            "Test MSE Loss = 0.0001629351481360071\n",
            "1.9451063716842611\n",
            "\u001b[1m19/19\u001b[0m \u001b[32m━━━━━━━━━━━━━━━━━━━━\u001b[0m\u001b[37m\u001b[0m \u001b[1m0s\u001b[0m 5ms/step\n",
            "Montecarlo: 45\t Final Epoch = 1194\t Final MSE Loss = 5.088362013339065e-05\n",
            "Test MSE Loss = 0.0001284070052188752\n",
            "1.9451063716842611\n",
            "\u001b[1m19/19\u001b[0m \u001b[32m━━━━━━━━━━━━━━━━━━━━\u001b[0m\u001b[37m\u001b[0m \u001b[1m0s\u001b[0m 5ms/step\n",
            "Montecarlo: 46\t Final Epoch = 806\t Final MSE Loss = 0.00011092681234003976\n",
            "Test MSE Loss = 0.0001952173407994669\n",
            "1.9451063716842611\n",
            "\u001b[1m19/19\u001b[0m \u001b[32m━━━━━━━━━━━━━━━━━━━━\u001b[0m\u001b[37m\u001b[0m \u001b[1m0s\u001b[0m 7ms/step\n",
            "Montecarlo: 47\t Final Epoch = 965\t Final MSE Loss = 0.00017719483003020287\n",
            "Test MSE Loss = 0.00021635331108995677\n",
            "1.9451063716842611\n",
            "\u001b[1m19/19\u001b[0m \u001b[32m━━━━━━━━━━━━━━━━━━━━\u001b[0m\u001b[37m\u001b[0m \u001b[1m0s\u001b[0m 6ms/step\n",
            "Montecarlo: 48\t Final Epoch = 2000\t Final MSE Loss = 0.00013322761515155435\n",
            "Test MSE Loss = 0.00015236597287093278\n",
            "1.9451063716842611\n",
            "\u001b[1m19/19\u001b[0m \u001b[32m━━━━━━━━━━━━━━━━━━━━\u001b[0m\u001b[37m\u001b[0m \u001b[1m0s\u001b[0m 5ms/step\n",
            "Montecarlo: 49\t Final Epoch = 1144\t Final MSE Loss = 6.43132152617909e-05\n",
            "Test MSE Loss = 0.0001632725540161557\n",
            "1.9451063716842611\n",
            "\u001b[1m19/19\u001b[0m \u001b[32m━━━━━━━━━━━━━━━━━━━━\u001b[0m\u001b[37m\u001b[0m \u001b[1m0s\u001b[0m 5ms/step\n",
            "Montecarlo: 50\t Final Epoch = 2000\t Final MSE Loss = 0.00016409803356509656\n",
            "Test MSE Loss = 0.00018165670066403413\n",
            "\n",
            "Mean final epoch: 1407.84                Final Epoch Variance: 351033.89440000005\n",
            "Mean final error: 0.00012121131847379729             Final error Variance: 2.870000165267029e-09\n",
            "Mean testing error: 0.00017070099923589997         Testing error Variance: 1.2462234358943015e-09\n",
            "\n"
          ]
        }
      ],
      "source": [
        "num_domain = 64\n",
        "l = 1\n",
        "minval = -6*l\n",
        "maxval = 6*l\n",
        "v0 = 50\n",
        "\n",
        "x = np.linspace(minval, maxval, num_domain)\n",
        "\n",
        "epochs = 2000\n",
        "learning_rate = 0.02\n",
        "\n",
        "n_montecarlo = 50\n",
        "\n",
        "final_epoch_arr = np.zeros(n_montecarlo)\n",
        "final_train_error_arr = np.zeros(n_montecarlo)\n",
        "test_error_arr = np.zeros(n_montecarlo)\n",
        "\n",
        "def nn_pend(j, epochs, learning_rate, x):\n",
        "\n",
        "  n_inputs = 1\n",
        "  n_outputs = 1\n",
        "  activation = 'tanh'\n",
        "\n",
        "  model = tf.keras.models.Sequential()\n",
        "  model.add(tf.keras.layers.Input((n_inputs,)))\n",
        "  model.add(tf.keras.layers.Dense(units=8, activation=activation))\n",
        "  model.add(tf.keras.layers.Dense(units=3, activation=activation))\n",
        "  model.add(tf.keras.layers.Dense(units=6, activation=activation))\n",
        "  model.add(tf.keras.layers.Dense(units=n_outputs))\n",
        "\n",
        "  if j == 0:\n",
        "\n",
        "    model.summary()\n",
        "\n",
        "  early_stop = EarlyStopping(\n",
        "      monitor='loss',\n",
        "      patience=8,\n",
        "      restore_best_weights=True\n",
        "  )\n",
        "\n",
        "  model.compile(optimizer=\"adam\", loss=\"mse\")\n",
        "\n",
        "  V_d = np.where(np.abs(x) <= l, 0.0, v0)\n",
        "\n",
        "  dx = x[1] - x[0]\n",
        "\n",
        "  main_diag = 2.0 / dx**2 + V_d[1:-1]\n",
        "  off_diag = -1.0 / dx**2 * np.ones(num_domain - 3)\n",
        "\n",
        "  eigenvalues, eigenvectors = eigh_tridiagonal(main_diag, off_diag)\n",
        "\n",
        "  E0 = eigenvalues[0]\n",
        "  psi0 = eigenvectors[:, 0]\n",
        "\n",
        "  print(E0)\n",
        "\n",
        "  psi0 = psi0 / np.sqrt(scipy.integrate.simpson(psi0**2, x[1:-1]))\n",
        "\n",
        "  psi_full = np.zeros(num_domain)\n",
        "  psi_full[1:-1] = psi0\n",
        "\n",
        "  y_true = psi_full\n",
        "\n",
        "  history = model.fit(x, y_true, epochs=epochs, batch_size=1, callbacks=[early_stop], verbose=0)\n",
        "  final_epoch = len(history.history['loss'])\n",
        "  final_train_error = history.history['loss'][-1]\n",
        "\n",
        "  x_test = np.linspace(minval, maxval, 601)\n",
        "  y_pred = model.predict(x_test)\n",
        "\n",
        "  V_d = np.where(np.abs(x_test) <= l, 0.0, v0)\n",
        "\n",
        "  dx = x_test[1] - x_test[0]\n",
        "\n",
        "  main_diag = 2.0 / dx**2 + V_d[1:-1]\n",
        "  off_diag = -1.0 / dx**2 * np.ones(601 - 3)\n",
        "\n",
        "  eigenvalues, eigenvectors = eigh_tridiagonal(main_diag, off_diag)\n",
        "\n",
        "  E0 = eigenvalues[0]\n",
        "  psi0 = eigenvectors[:, 0]\n",
        "\n",
        "  psi0 = psi0 / np.sqrt(scipy.integrate.simpson(psi0**2, x_test[1:-1]))\n",
        "\n",
        "  psi_full = np.zeros(601)\n",
        "  psi_full[1:-1] = psi0\n",
        "\n",
        "  y_true = psi_full\n",
        "\n",
        "\n",
        "  val_error = 0\n",
        "\n",
        "  for i in range(len(y_pred)):\n",
        "\n",
        "    val_error += (y_pred[i] - y_true[i])**2\n",
        "\n",
        "  test_error = val_error/len(y_pred)\n",
        "  test_error = test_error[0]\n",
        "\n",
        "  final_epoch_arr[j] = final_epoch\n",
        "  final_train_error_arr[j] = final_train_error\n",
        "  test_error_arr[j] = test_error\n",
        "\n",
        "  print('Montecarlo: {}\\t Final Epoch = {}\\t Final MSE Loss = {}'.format(j+1, final_epoch, final_train_error), flush=True)\n",
        "  print('Test MSE Loss = {}'.format(test_error), flush=True)\n",
        "\n",
        "  if j == 0:\n",
        "\n",
        "    plt.plot(x_test, y_pred)\n",
        "    plt.plot(x_test, y_true)\n",
        "\n",
        "    plt.title('Evaluation')\n",
        "    plt.legend(['NN Prediction', 'Tridiagonal Evaluation'])\n",
        "    plt.vlines([-l, l], -0.1, 1, \"r\")\n",
        "    plt.show()\n",
        "\n",
        "for j in range(n_montecarlo):\n",
        "\n",
        "  nn_pend(j, epochs, learning_rate, x)\n",
        "\n",
        "final_epoch_mean = final_epoch_arr.mean()\n",
        "final_epoch_var = final_epoch_arr.var()\n",
        "final_train_error_mean = final_train_error_arr.mean()\n",
        "final_train_error_var = final_train_error_arr.var()\n",
        "test_error_mean = test_error_arr.mean()\n",
        "test_error_var = test_error_arr.var()\n",
        "\n",
        "print(f\"\"\"\n",
        "Mean final epoch: {final_epoch_mean}                Final Epoch Variance: {final_epoch_var}\n",
        "Mean final error: {final_train_error_mean}             Final error Variance: {final_train_error_var}\n",
        "Mean testing error: {test_error_mean}         Testing error Variance: {test_error_var}\n",
        "\"\"\")"
      ]
    },
    {
      "cell_type": "code",
      "execution_count": null,
      "metadata": {
        "id": "yR2z0uY56r_8"
      },
      "outputs": [],
      "source": []
    }
  ],
  "metadata": {
    "colab": {
      "collapsed_sections": [
        "RylzWvgenbZm",
        "lD6_OZQCnDaK",
        "DILaPIaaBydN",
        "7lEa3MYUgNBe"
      ],
      "provenance": []
    },
    "kernelspec": {
      "display_name": "Python 3",
      "name": "python3"
    },
    "language_info": {
      "name": "python"
    }
  },
  "nbformat": 4,
  "nbformat_minor": 0
}